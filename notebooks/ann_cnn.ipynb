{
 "cells": [
  {
   "cell_type": "markdown",
   "metadata": {},
   "source": [
    "Based on a talk by Dr. Adrin Jalali https://github.com/adrinjalali/talks/tree/master/2018/CNNs-long"
   ]
  },
  {
   "cell_type": "markdown",
   "metadata": {
    "slideshow": {
     "slide_type": "slide"
    }
   },
   "source": [
    "# Neural Networks, Tensorflow, Deep Learning"
   ]
  },
  {
   "cell_type": "markdown",
   "metadata": {
    "slideshow": {
     "slide_type": "slide"
    }
   },
   "source": [
    "#### Requirements: \n",
    "\n",
    " - python3\n",
    " - ipython\n",
    " - notebook (jupyter)\n",
    " - matplotlib\n",
    " - numpy, pandas\n",
    " - keras\n",
    " - tensorflow\n"
   ]
  },
  {
   "cell_type": "markdown",
   "metadata": {
    "slideshow": {
     "slide_type": "slide"
    }
   },
   "source": [
    "## Neural Networks"
   ]
  },
  {
   "cell_type": "markdown",
   "metadata": {
    "slideshow": {
     "slide_type": "subslide"
    }
   },
   "source": [
    "### A single neuron\n",
    "\n",
    "![spiking neural network](http://lis2.epfl.ch/CompletedResearchProjects/EvolutionOfAdaptiveSpikingCircuits/images/neuron.jpg)"
   ]
  },
  {
   "cell_type": "markdown",
   "metadata": {
    "slideshow": {
     "slide_type": "subslide"
    }
   },
   "source": [
    "### Spiking Neural Networks\n",
    "\n",
    "![spiking system](http://lis2.epfl.ch/CompletedResearchProjects/EvolutionOfAdaptiveSpikingCircuits/images/spiking.jpg)\n"
   ]
  },
  {
   "cell_type": "markdown",
   "metadata": {
    "slideshow": {
     "slide_type": "subslide"
    }
   },
   "source": [
    "### Artificial Neuron (Perceptron - 1957)\n",
    "[Source](http://natureofcode.com/book/chapter-10-neural-networks/)\n",
    "\n",
    "![](http://natureofcode.com/book/imgs/chapter10/ch10_05.png)\n",
    "\n",
    "$$output = f(x \\times w_x + y \\times w_y)$$\n",
    "$$f(x) = sign(x)$$\n",
    "\n",
    "![](https://upload.wikimedia.org/wikipedia/commons/thumb/4/4f/Signum_function.svg/200px-Signum_function.svg.png)"
   ]
  },
  {
   "cell_type": "markdown",
   "metadata": {
    "slideshow": {
     "slide_type": "subslide"
    }
   },
   "source": [
    "### Classification\n",
    "\n",
    "![](http://natureofcode.com/book/imgs/chapter10/ch10_04.png)"
   ]
  },
  {
   "cell_type": "markdown",
   "metadata": {
    "slideshow": {
     "slide_type": "subslide"
    }
   },
   "source": [
    "#### Add bias\n",
    "![](http://natureofcode.com/book/imgs/chapter10/ch10_06.png)\n",
    "\n",
    "$$output = f(x \\times w_x + y \\times w_y + bias \\times w_{bias})$$\n",
    "$$f(x) = sign(x)$$\n"
   ]
  },
  {
   "cell_type": "markdown",
   "metadata": {
    "slideshow": {
     "slide_type": "subslide"
    }
   },
   "source": [
    "#### Feed the data\n",
    "![](http://natureofcode.com/book/imgs/chapter10/ch10_07.png)"
   ]
  },
  {
   "cell_type": "markdown",
   "metadata": {
    "slideshow": {
     "slide_type": "subslide"
    }
   },
   "source": [
    "### Excercise: derive the weight update formula.\n"
   ]
  },
  {
   "cell_type": "markdown",
   "metadata": {
    "slideshow": {
     "slide_type": "fragment"
    }
   },
   "source": [
    "$$output = sign(x \\times w_x + y \\times w_y + b \\times w_b)$$"
   ]
  },
  {
   "cell_type": "markdown",
   "metadata": {
    "slideshow": {
     "slide_type": "fragment"
    }
   },
   "source": [
    "$$error = desired - output$$"
   ]
  },
  {
   "cell_type": "markdown",
   "metadata": {
    "slideshow": {
     "slide_type": "fragment"
    }
   },
   "source": [
    "$$w_{new} = w + \\Delta w$$"
   ]
  },
  {
   "cell_type": "markdown",
   "metadata": {
    "slideshow": {
     "slide_type": "fragment"
    }
   },
   "source": [
    "$$\\Delta w = error \\times input$$"
   ]
  },
  {
   "cell_type": "markdown",
   "metadata": {
    "slideshow": {
     "slide_type": "fragment"
    }
   },
   "source": [
    "$$\\Delta w =  error \\times input \\times \\text{learning rate}$$"
   ]
  },
  {
   "cell_type": "markdown",
   "metadata": {
    "slideshow": {
     "slide_type": "slide"
    }
   },
   "source": [
    "## Classification\n",
    "\n",
    "### Logical OR\n",
    "\n",
    "#### Initialize variables"
   ]
  },
  {
   "cell_type": "code",
   "execution_count": 33,
   "metadata": {
    "slideshow": {
     "slide_type": "fragment"
    }
   },
   "outputs": [],
   "source": [
    "import numpy as np\n",
    "import math\n",
    "\n",
    "sign = lambda x: math.copysign(1, x)\n",
    "\n",
    "def f(X, W):\n",
    "     \"\"\"\n",
    "    Compute the sign of the linear combination of input features and weights.\n",
    "\n",
    "    Args:\n",
    "        X (list or array-like): Input features as a list or array.\n",
    "        W (list or array-like): Coefficients or weights as a list or array.\n",
    "\n",
    "    Returns:\n",
    "        int: The sign of the linear combination, where 1 indicates a positive result,\n",
    "             0 indicates zero, and -1 indicates a negative result.\n",
    "\n",
    "    This function calculates the sign of the linear combination of input features and\n",
    "    weights. It takes the dot product of the input features (X) and coefficients (W),\n",
    "    and returns the sign of the result, where 1 represents a positive result, 0\n",
    "    represents zero, and -1 represents a negative result.\n",
    "    \"\"\"\n",
    "    return sign(sum([x * w for x, w in zip(X, W)]))\n",
    "\n",
    "data = np.array(\n",
    "    [[0, 0,],\n",
    "     [1, 0,],\n",
    "     [0, 1,],\n",
    "     [1, 1,]\n",
    "    ]) # The input data\n",
    "\n",
    "output = np.array([-1, 1, 1, 1]) # The expected output\n",
    "\n",
    "W = np.random.normal(0, size=2)"
   ]
  },
  {
   "cell_type": "code",
   "execution_count": 10,
   "metadata": {},
   "outputs": [
    {
     "name": "stdout",
     "output_type": "stream",
     "text": [
      "-1.0\n",
      "1.0\n"
     ]
    }
   ],
   "source": [
    "print(math.copysign(1, -0.1))\n",
    "print(math.copysign(1, 1.1))"
   ]
  },
  {
   "cell_type": "markdown",
   "metadata": {
    "slideshow": {
     "slide_type": "subslide"
    }
   },
   "source": [
    "#### Error"
   ]
  },
  {
   "cell_type": "code",
   "execution_count": 34,
   "metadata": {
    "slideshow": {
     "slide_type": "fragment"
    }
   },
   "outputs": [
    {
     "name": "stdout",
     "output_type": "stream",
     "text": [
      "desired:  1, expected: -1, error: -2\n",
      "desired: -1, expected:  1, error:  2\n",
      "desired: -1, expected:  1, error:  2\n",
      "desired: -1, expected:  1, error:  2\n"
     ]
    }
   ],
   "source": [
    "for i in range(len(data)):\n",
    "    print('desired: %2d, expected: %2d, error: %2d' % \n",
    "          (f(data[i], W), \n",
    "           output[i],\n",
    "           output[i] - f(data[i], W)))"
   ]
  },
  {
   "cell_type": "code",
   "execution_count": 35,
   "metadata": {
    "slideshow": {
     "slide_type": "fragment"
    }
   },
   "outputs": [],
   "source": [
    "def total_error(X, W, y):\n",
    "    \"\"\"\n",
    "    Calculate the total error of a linear model.\n",
    "\n",
    "    Args:\n",
    "        X (array-like): Input features or data matrix.\n",
    "        W (array-like): Coefficients or weights of the linear model.\n",
    "        y (array-like): Target values or labels.\n",
    "\n",
    "    Returns:\n",
    "        float: The total error, computed as the sum of absolute differences\n",
    "               between predicted values and actual target values.\n",
    "\n",
    "    This function calculates the total error of a linear model by summing\n",
    "    the absolute differences between the predicted values and the actual target values.\n",
    "    The input features are represented as X, the model coefficients as W, and the\n",
    "    corresponding target values as y.\n",
    "    \"\"\"\n",
    "    return sum([abs(y[i] - f(X[i,], W)) for i in range(len(X))])"
   ]
  },
  {
   "cell_type": "markdown",
   "metadata": {
    "slideshow": {
     "slide_type": "subslide"
    }
   },
   "source": [
    "#### Update Weights"
   ]
  },
  {
   "cell_type": "code",
   "execution_count": 36,
   "metadata": {
    "slideshow": {
     "slide_type": "fragment"
    }
   },
   "outputs": [],
   "source": [
    "def new_w(X, W, y, learning_rate):\n",
    "    \"\"\"\n",
    "    Update the model's weights using a learning rate and error correction.\n",
    "\n",
    "    Args:\n",
    "        X (list or array-like): Input features as a list or array.\n",
    "        W (list or array-like): Coefficients or weights as a list or array.\n",
    "        y (float or int): Target value or label.\n",
    "        learning_rate (float): The learning rate used for weight updates.\n",
    "\n",
    "    Returns:\n",
    "        np.ndarray: An updated array of weights after applying the correction.\n",
    "\n",
    "    This function updates the model's weights by computing the prediction using the\n",
    "    current weights and input features, calculating the error between the prediction\n",
    "    and the actual target value (y), and adjusting the weights based on the error and\n",
    "    the specified learning rate.\n",
    "    \"\"\"\n",
    "    output = f(X, W)\n",
    "    error = y - output\n",
    "    delta_w = np.array([error * x * learning_rate for x in X])\n",
    "    return W + delta_w"
   ]
  },
  {
   "cell_type": "markdown",
   "metadata": {
    "slideshow": {
     "slide_type": "subslide"
    }
   },
   "source": [
    "#### Train"
   ]
  },
  {
   "cell_type": "code",
   "execution_count": 44,
   "metadata": {
    "scrolled": true,
    "slideshow": {
     "slide_type": "fragment"
    }
   },
   "outputs": [
    {
     "name": "stdout",
     "output_type": "stream",
     "text": [
      "starting error:  4\n",
      "[-0.52770426  1.34957208]\n",
      "error:  4, W: [-0.51770426  1.34957208]\n",
      "error:  4, W: [-0.50770426  1.34957208]\n",
      "error:  4, W: [-0.49770426  1.34957208]\n",
      "error:  4, W: [-0.48770426  1.34957208]\n",
      "error:  4, W: [-0.47770426  1.34957208]\n",
      "error:  4, W: [-0.46770426  1.34957208]\n",
      "error:  4, W: [-0.45770426  1.34957208]\n",
      "error:  4, W: [-0.44770426  1.34957208]\n",
      "error:  4, W: [-0.43770426  1.34957208]\n",
      "error:  4, W: [-0.42770426  1.34957208]\n",
      "error:  4, W: [-0.41770426  1.34957208]\n",
      "error:  4, W: [-0.40770426  1.34957208]\n",
      "error:  4, W: [-0.39770426  1.34957208]\n",
      "error:  4, W: [-0.38770426  1.34957208]\n",
      "error:  4, W: [-0.37770426  1.34957208]\n",
      "error:  4, W: [-0.36770426  1.34957208]\n",
      "error:  4, W: [-0.35770426  1.34957208]\n",
      "error:  4, W: [-0.34770426  1.34957208]\n",
      "error:  4, W: [-0.33770426  1.34957208]\n",
      "error:  4, W: [-0.32770426  1.34957208]\n",
      "error:  4, W: [-0.31770426  1.34957208]\n",
      "error:  4, W: [-0.30770426  1.34957208]\n",
      "error:  4, W: [-0.29770426  1.34957208]\n",
      "error:  4, W: [-0.28770426  1.34957208]\n",
      "error:  4, W: [-0.27770426  1.34957208]\n",
      "error:  4, W: [-0.26770426  1.34957208]\n",
      "error:  4, W: [-0.25770426  1.34957208]\n",
      "error:  4, W: [-0.24770426  1.34957208]\n",
      "error:  4, W: [-0.23770426  1.34957208]\n",
      "error:  4, W: [-0.22770426  1.34957208]\n",
      "error:  4, W: [-0.21770426  1.34957208]\n",
      "error:  4, W: [-0.20770426  1.34957208]\n",
      "error:  4, W: [-0.19770426  1.34957208]\n",
      "error:  4, W: [-0.18770426  1.34957208]\n",
      "error:  4, W: [-0.17770426  1.34957208]\n",
      "error:  4, W: [-0.16770426  1.34957208]\n",
      "error:  4, W: [-0.15770426  1.34957208]\n",
      "error:  4, W: [-0.14770426  1.34957208]\n",
      "error:  4, W: [-0.13770426  1.34957208]\n",
      "error:  4, W: [-0.12770426  1.34957208]\n",
      "error:  4, W: [-0.11770426  1.34957208]\n",
      "error:  4, W: [-0.10770426  1.34957208]\n",
      "error:  4, W: [-0.09770426  1.34957208]\n",
      "error:  4, W: [-0.08770426  1.34957208]\n",
      "error:  4, W: [-0.07770426  1.34957208]\n",
      "error:  4, W: [-0.06770426  1.34957208]\n",
      "error:  4, W: [-0.05770426  1.34957208]\n",
      "error:  4, W: [-0.04770426  1.34957208]\n",
      "error:  4, W: [-0.03770426  1.34957208]\n",
      "error:  4, W: [-0.02770426  1.34957208]\n",
      "error:  4, W: [-0.01770426  1.34957208]\n",
      "error:  4, W: [-0.00770426  1.34957208]\n",
      "error:  2, W: [0.00229574 1.34957208]\n",
      "error:  2, W: [0.00229574 1.34957208]\n",
      "error:  2, W: [0.00229574 1.34957208]\n",
      "error:  2, W: [0.00229574 1.34957208]\n",
      "error:  2, W: [0.00229574 1.34957208]\n",
      "error:  2, W: [0.00229574 1.34957208]\n",
      "error:  2, W: [0.00229574 1.34957208]\n",
      "error:  2, W: [0.00229574 1.34957208]\n",
      "error:  2, W: [0.00229574 1.34957208]\n",
      "error:  2, W: [0.00229574 1.34957208]\n",
      "error:  2, W: [0.00229574 1.34957208]\n",
      "error:  2, W: [0.00229574 1.34957208]\n",
      "error:  2, W: [0.00229574 1.34957208]\n",
      "error:  2, W: [0.00229574 1.34957208]\n",
      "error:  2, W: [0.00229574 1.34957208]\n",
      "error:  2, W: [0.00229574 1.34957208]\n",
      "error:  2, W: [0.00229574 1.34957208]\n",
      "error:  2, W: [0.00229574 1.34957208]\n",
      "error:  2, W: [0.00229574 1.34957208]\n",
      "error:  2, W: [0.00229574 1.34957208]\n",
      "error:  2, W: [0.00229574 1.34957208]\n",
      "error:  2, W: [0.00229574 1.34957208]\n",
      "error:  2, W: [0.00229574 1.34957208]\n",
      "error:  2, W: [0.00229574 1.34957208]\n",
      "error:  2, W: [0.00229574 1.34957208]\n",
      "error:  2, W: [0.00229574 1.34957208]\n",
      "error:  2, W: [0.00229574 1.34957208]\n",
      "error:  2, W: [0.00229574 1.34957208]\n",
      "error:  2, W: [0.00229574 1.34957208]\n",
      "error:  2, W: [0.00229574 1.34957208]\n",
      "error:  2, W: [0.00229574 1.34957208]\n",
      "error:  2, W: [0.00229574 1.34957208]\n",
      "error:  2, W: [0.00229574 1.34957208]\n",
      "error:  2, W: [0.00229574 1.34957208]\n",
      "error:  2, W: [0.00229574 1.34957208]\n",
      "error:  2, W: [0.00229574 1.34957208]\n",
      "error:  2, W: [0.00229574 1.34957208]\n",
      "error:  2, W: [0.00229574 1.34957208]\n",
      "error:  2, W: [0.00229574 1.34957208]\n",
      "error:  2, W: [0.00229574 1.34957208]\n",
      "error:  2, W: [0.00229574 1.34957208]\n",
      "error:  2, W: [0.00229574 1.34957208]\n",
      "error:  2, W: [0.00229574 1.34957208]\n",
      "error:  2, W: [0.00229574 1.34957208]\n",
      "error:  2, W: [0.00229574 1.34957208]\n",
      "error:  2, W: [0.00229574 1.34957208]\n",
      "error:  2, W: [0.00229574 1.34957208]\n",
      "error:  2, W: [0.00229574 1.34957208]\n"
     ]
    }
   ],
   "source": [
    "learning_rate = 0.005\n",
    "W = np.random.normal(0, size=2)\n",
    "print('starting error: %2g' % total_error(data, W, output))\n",
    "\n",
    "print(W)\n",
    "\n",
    "for epoch in range(100):\n",
    "    for i in range(len(data)):\n",
    "        W = new_w(data[i,:], W, output[i], learning_rate)\n",
    "        \n",
    "    print('error: %2g, W: %s' % (total_error(data, W, output), str(W)))\n",
    "    if total_error(data, W, output) == 0:\n",
    "        break"
   ]
  },
  {
   "cell_type": "markdown",
   "metadata": {
    "slideshow": {
     "slide_type": "subslide"
    }
   },
   "source": [
    "### Logical AND\n",
    "\n",
    "#### Initialize variables"
   ]
  },
  {
   "cell_type": "code",
   "execution_count": 31,
   "metadata": {
    "slideshow": {
     "slide_type": "fragment"
    }
   },
   "outputs": [],
   "source": [
    "data = np.array([[0, 0, 1],\n",
    "                 [1, 0, 1],\n",
    "                 [0, 1, 1],\n",
    "                 [1, 1, 1],\n",
    "                ])\n",
    "output = np.array([-1, -1, -1, 1])\n",
    "\n",
    "W = np.random.normal(0, size=3)"
   ]
  },
  {
   "cell_type": "markdown",
   "metadata": {
    "slideshow": {
     "slide_type": "subslide"
    }
   },
   "source": [
    "#### Train"
   ]
  },
  {
   "cell_type": "code",
   "execution_count": 32,
   "metadata": {
    "slideshow": {
     "slide_type": "fragment"
    }
   },
   "outputs": [
    {
     "name": "stdout",
     "output_type": "stream",
     "text": [
      "starting error:  6\n",
      "error:  4, W: [-0.25659762  0.32059682  0.14466139] i:3\n",
      "error:  2, W: [-0.05659762  0.32059682 -0.05533861] i:3\n",
      "error:  4, W: [ 0.14340238  0.32059682 -0.05533861] i:3\n",
      "error:  2, W: [ 0.14340238  0.32059682 -0.25533861] i:3\n",
      "error:  4, W: [ 0.34340238  0.32059682 -0.25533861] i:3\n",
      "error:  0, W: [ 0.14340238  0.32059682 -0.45533861] i:3\n"
     ]
    }
   ],
   "source": [
    "learning_rate = 0.1\n",
    "print('starting error: %2g' % total_error(data, W, output))\n",
    "\n",
    "for epoch in range(100):\n",
    "    for i in range(len(data)):\n",
    "        W = new_w(data[i,:], W, output[i], learning_rate)\n",
    "        \n",
    "    print('error: %2g, W: %s i:%i' % (total_error(data, W, output), str(W), i))\n",
    "    if total_error(data, W, output) == 0:\n",
    "        break"
   ]
  },
  {
   "cell_type": "markdown",
   "metadata": {
    "slideshow": {
     "slide_type": "subslide"
    }
   },
   "source": [
    "### Demo\n",
    "http://natureofcode.com/book/chapter-10-neural-networks/\n",
    "\n",
    "https://bit.ly/1QwqTmA"
   ]
  },
  {
   "cell_type": "markdown",
   "metadata": {
    "slideshow": {
     "slide_type": "subslide"
    }
   },
   "source": [
    "### Logical XOR\n",
    "\n",
    "#### Initialize variables"
   ]
  },
  {
   "cell_type": "code",
   "execution_count": 82,
   "metadata": {
    "slideshow": {
     "slide_type": "fragment"
    }
   },
   "outputs": [],
   "source": [
    "data = np.array([[0, 0, 1],\n",
    "                 [1, 0, 1],\n",
    "                 [0, 1, 1],\n",
    "                 [1, 1, 1]])\n",
    "output = np.array([-1, 1, 1, -1])\n",
    "\n",
    "W = np.random.normal(0, size=3)"
   ]
  },
  {
   "cell_type": "markdown",
   "metadata": {
    "slideshow": {
     "slide_type": "subslide"
    }
   },
   "source": [
    "#### Train"
   ]
  },
  {
   "cell_type": "code",
   "execution_count": 84,
   "metadata": {
    "scrolled": true,
    "slideshow": {
     "slide_type": "fragment"
    }
   },
   "outputs": [
    {
     "name": "stdout",
     "output_type": "stream",
     "text": [
      "starting error:  4\n",
      "error:  4, W: [ 0.20181223  0.70256253 -1.10922323]\n",
      "error:  4, W: [ 0.20181223  0.70256253 -0.90922323]\n",
      "error:  6, W: [ 0.20181223  0.70256253 -0.70922323]\n",
      "error:  4, W: [ 0.20181223  0.50256253 -0.70922323]\n",
      "error:  6, W: [ 0.20181223  0.50256253 -0.50922323]\n",
      "error:  4, W: [ 0.20181223  0.30256253 -0.50922323]\n",
      "error:  6, W: [ 0.20181223  0.30256253 -0.30922323]\n",
      "error:  4, W: [ 0.20181223  0.10256253 -0.30922323]\n",
      "error:  4, W: [ 0.20181223  0.10256253 -0.10922323]\n",
      "error:  4, W: [ 0.00181223  0.10256253 -0.10922323]\n",
      "error:  4, W: [ 0.00181223 -0.09743747 -0.10922323]\n",
      "error:  4, W: [ 0.00181223 -0.09743747  0.09077677]\n",
      "error:  4, W: [ 0.00181223 -0.09743747  0.09077677]\n",
      "error:  4, W: [ 0.00181223 -0.09743747  0.09077677]\n",
      "error:  4, W: [ 0.00181223 -0.09743747  0.09077677]\n",
      "error:  4, W: [ 0.00181223 -0.09743747  0.09077677]\n",
      "error:  4, W: [ 0.00181223 -0.09743747  0.09077677]\n",
      "error:  4, W: [ 0.00181223 -0.09743747  0.09077677]\n",
      "error:  4, W: [ 0.00181223 -0.09743747  0.09077677]\n",
      "error:  4, W: [ 0.00181223 -0.09743747  0.09077677]\n",
      "error:  4, W: [ 0.00181223 -0.09743747  0.09077677]\n",
      "error:  4, W: [ 0.00181223 -0.09743747  0.09077677]\n",
      "error:  4, W: [ 0.00181223 -0.09743747  0.09077677]\n",
      "error:  4, W: [ 0.00181223 -0.09743747  0.09077677]\n",
      "error:  4, W: [ 0.00181223 -0.09743747  0.09077677]\n",
      "error:  4, W: [ 0.00181223 -0.09743747  0.09077677]\n",
      "error:  4, W: [ 0.00181223 -0.09743747  0.09077677]\n",
      "error:  4, W: [ 0.00181223 -0.09743747  0.09077677]\n",
      "error:  4, W: [ 0.00181223 -0.09743747  0.09077677]\n",
      "error:  4, W: [ 0.00181223 -0.09743747  0.09077677]\n",
      "error:  4, W: [ 0.00181223 -0.09743747  0.09077677]\n",
      "error:  4, W: [ 0.00181223 -0.09743747  0.09077677]\n",
      "error:  4, W: [ 0.00181223 -0.09743747  0.09077677]\n",
      "error:  4, W: [ 0.00181223 -0.09743747  0.09077677]\n",
      "error:  4, W: [ 0.00181223 -0.09743747  0.09077677]\n",
      "error:  4, W: [ 0.00181223 -0.09743747  0.09077677]\n",
      "error:  4, W: [ 0.00181223 -0.09743747  0.09077677]\n",
      "error:  4, W: [ 0.00181223 -0.09743747  0.09077677]\n",
      "error:  4, W: [ 0.00181223 -0.09743747  0.09077677]\n",
      "error:  4, W: [ 0.00181223 -0.09743747  0.09077677]\n",
      "error:  4, W: [ 0.00181223 -0.09743747  0.09077677]\n",
      "error:  4, W: [ 0.00181223 -0.09743747  0.09077677]\n",
      "error:  4, W: [ 0.00181223 -0.09743747  0.09077677]\n",
      "error:  4, W: [ 0.00181223 -0.09743747  0.09077677]\n",
      "error:  4, W: [ 0.00181223 -0.09743747  0.09077677]\n",
      "error:  4, W: [ 0.00181223 -0.09743747  0.09077677]\n",
      "error:  4, W: [ 0.00181223 -0.09743747  0.09077677]\n",
      "error:  4, W: [ 0.00181223 -0.09743747  0.09077677]\n",
      "error:  4, W: [ 0.00181223 -0.09743747  0.09077677]\n",
      "error:  4, W: [ 0.00181223 -0.09743747  0.09077677]\n",
      "error:  4, W: [ 0.00181223 -0.09743747  0.09077677]\n",
      "error:  4, W: [ 0.00181223 -0.09743747  0.09077677]\n",
      "error:  4, W: [ 0.00181223 -0.09743747  0.09077677]\n",
      "error:  4, W: [ 0.00181223 -0.09743747  0.09077677]\n",
      "error:  4, W: [ 0.00181223 -0.09743747  0.09077677]\n",
      "error:  4, W: [ 0.00181223 -0.09743747  0.09077677]\n",
      "error:  4, W: [ 0.00181223 -0.09743747  0.09077677]\n",
      "error:  4, W: [ 0.00181223 -0.09743747  0.09077677]\n",
      "error:  4, W: [ 0.00181223 -0.09743747  0.09077677]\n",
      "error:  4, W: [ 0.00181223 -0.09743747  0.09077677]\n",
      "error:  4, W: [ 0.00181223 -0.09743747  0.09077677]\n",
      "error:  4, W: [ 0.00181223 -0.09743747  0.09077677]\n",
      "error:  4, W: [ 0.00181223 -0.09743747  0.09077677]\n",
      "error:  4, W: [ 0.00181223 -0.09743747  0.09077677]\n",
      "error:  4, W: [ 0.00181223 -0.09743747  0.09077677]\n",
      "error:  4, W: [ 0.00181223 -0.09743747  0.09077677]\n",
      "error:  4, W: [ 0.00181223 -0.09743747  0.09077677]\n",
      "error:  4, W: [ 0.00181223 -0.09743747  0.09077677]\n",
      "error:  4, W: [ 0.00181223 -0.09743747  0.09077677]\n",
      "error:  4, W: [ 0.00181223 -0.09743747  0.09077677]\n",
      "error:  4, W: [ 0.00181223 -0.09743747  0.09077677]\n",
      "error:  4, W: [ 0.00181223 -0.09743747  0.09077677]\n",
      "error:  4, W: [ 0.00181223 -0.09743747  0.09077677]\n",
      "error:  4, W: [ 0.00181223 -0.09743747  0.09077677]\n",
      "error:  4, W: [ 0.00181223 -0.09743747  0.09077677]\n",
      "error:  4, W: [ 0.00181223 -0.09743747  0.09077677]\n",
      "error:  4, W: [ 0.00181223 -0.09743747  0.09077677]\n",
      "error:  4, W: [ 0.00181223 -0.09743747  0.09077677]\n",
      "error:  4, W: [ 0.00181223 -0.09743747  0.09077677]\n",
      "error:  4, W: [ 0.00181223 -0.09743747  0.09077677]\n",
      "error:  4, W: [ 0.00181223 -0.09743747  0.09077677]\n",
      "error:  4, W: [ 0.00181223 -0.09743747  0.09077677]\n",
      "error:  4, W: [ 0.00181223 -0.09743747  0.09077677]\n",
      "error:  4, W: [ 0.00181223 -0.09743747  0.09077677]\n",
      "error:  4, W: [ 0.00181223 -0.09743747  0.09077677]\n",
      "error:  4, W: [ 0.00181223 -0.09743747  0.09077677]\n",
      "error:  4, W: [ 0.00181223 -0.09743747  0.09077677]\n",
      "error:  4, W: [ 0.00181223 -0.09743747  0.09077677]\n",
      "error:  4, W: [ 0.00181223 -0.09743747  0.09077677]\n",
      "error:  4, W: [ 0.00181223 -0.09743747  0.09077677]\n",
      "error:  4, W: [ 0.00181223 -0.09743747  0.09077677]\n",
      "error:  4, W: [ 0.00181223 -0.09743747  0.09077677]\n",
      "error:  4, W: [ 0.00181223 -0.09743747  0.09077677]\n",
      "error:  4, W: [ 0.00181223 -0.09743747  0.09077677]\n",
      "error:  4, W: [ 0.00181223 -0.09743747  0.09077677]\n",
      "error:  4, W: [ 0.00181223 -0.09743747  0.09077677]\n",
      "error:  4, W: [ 0.00181223 -0.09743747  0.09077677]\n",
      "error:  4, W: [ 0.00181223 -0.09743747  0.09077677]\n",
      "error:  4, W: [ 0.00181223 -0.09743747  0.09077677]\n",
      "error:  4, W: [ 0.00181223 -0.09743747  0.09077677]\n"
     ]
    }
   ],
   "source": [
    "learning_rate = 0.1\n",
    "W = np.random.normal(0, size=3)\n",
    "print('starting error: %2g' % total_error(data, W, output))\n",
    "\n",
    "for epoch in range(100):\n",
    "    for i in range(len(data)):\n",
    "        W = new_w(data[i,:], W, output[i], learning_rate)\n",
    "        \n",
    "    print('error: %2g, W: %s' % (total_error(data, W, output), str(W)))\n",
    "    if total_error(data, W, output) == 0:\n",
    "        break"
   ]
  },
  {
   "cell_type": "markdown",
   "metadata": {
    "slideshow": {
     "slide_type": "subslide"
    }
   },
   "source": [
    "#### Train (observe more closely)"
   ]
  },
  {
   "cell_type": "code",
   "execution_count": 83,
   "metadata": {
    "scrolled": true,
    "slideshow": {
     "slide_type": "fragment"
    }
   },
   "outputs": [
    {
     "name": "stdout",
     "output_type": "stream",
     "text": [
      "starting error:  4\n",
      "error:  4, W: [-0.79456032 -0.34411754 -0.0798738 ] i: 0\n",
      "error:  6, W: [-0.59456032 -0.34411754  0.1201262 ] i: 1\n",
      "error:  4, W: [-0.59456032 -0.14411754  0.3201262 ] i: 2\n",
      "error:  4, W: [-0.59456032 -0.14411754  0.3201262 ] i: 3\n",
      "error:  6, W: [-0.59456032 -0.14411754  0.1201262 ] i: 0\n",
      "error:  4, W: [-0.39456032 -0.14411754  0.3201262 ] i: 1\n",
      "error:  4, W: [-0.39456032 -0.14411754  0.3201262 ] i: 2\n",
      "error:  4, W: [-0.39456032 -0.14411754  0.3201262 ] i: 3\n",
      "error:  6, W: [-0.39456032 -0.14411754  0.1201262 ] i: 0\n",
      "error:  2, W: [-0.19456032 -0.14411754  0.3201262 ] i: 1\n",
      "error:  2, W: [-0.19456032 -0.14411754  0.3201262 ] i: 2\n",
      "error:  2, W: [-0.19456032 -0.14411754  0.3201262 ] i: 3\n",
      "error:  6, W: [-0.19456032 -0.14411754  0.1201262 ] i: 0\n",
      "error:  4, W: [ 0.00543968 -0.14411754  0.3201262 ] i: 1\n",
      "error:  4, W: [ 0.00543968 -0.14411754  0.3201262 ] i: 2\n",
      "error:  6, W: [-0.19456032 -0.34411754  0.1201262 ] i: 3\n",
      "error:  4, W: [-0.19456032 -0.34411754 -0.0798738 ] i: 0\n",
      "error:  4, W: [ 0.00543968 -0.34411754  0.1201262 ] i: 1\n",
      "error:  4, W: [ 0.00543968 -0.14411754  0.3201262 ] i: 2\n",
      "error:  6, W: [-0.19456032 -0.34411754  0.1201262 ] i: 3\n",
      "error:  4, W: [-0.19456032 -0.34411754 -0.0798738 ] i: 0\n",
      "error:  4, W: [ 0.00543968 -0.34411754  0.1201262 ] i: 1\n",
      "error:  4, W: [ 0.00543968 -0.14411754  0.3201262 ] i: 2\n",
      "error:  6, W: [-0.19456032 -0.34411754  0.1201262 ] i: 3\n",
      "error:  4, W: [-0.19456032 -0.34411754 -0.0798738 ] i: 0\n",
      "error:  4, W: [ 0.00543968 -0.34411754  0.1201262 ] i: 1\n",
      "error:  4, W: [ 0.00543968 -0.14411754  0.3201262 ] i: 2\n",
      "error:  6, W: [-0.19456032 -0.34411754  0.1201262 ] i: 3\n",
      "error:  4, W: [-0.19456032 -0.34411754 -0.0798738 ] i: 0\n",
      "error:  4, W: [ 0.00543968 -0.34411754  0.1201262 ] i: 1\n",
      "error:  4, W: [ 0.00543968 -0.14411754  0.3201262 ] i: 2\n",
      "error:  6, W: [-0.19456032 -0.34411754  0.1201262 ] i: 3\n",
      "error:  4, W: [-0.19456032 -0.34411754 -0.0798738 ] i: 0\n",
      "error:  4, W: [ 0.00543968 -0.34411754  0.1201262 ] i: 1\n",
      "error:  4, W: [ 0.00543968 -0.14411754  0.3201262 ] i: 2\n",
      "error:  6, W: [-0.19456032 -0.34411754  0.1201262 ] i: 3\n",
      "error:  4, W: [-0.19456032 -0.34411754 -0.0798738 ] i: 0\n",
      "error:  4, W: [ 0.00543968 -0.34411754  0.1201262 ] i: 1\n",
      "error:  4, W: [ 0.00543968 -0.14411754  0.3201262 ] i: 2\n",
      "error:  6, W: [-0.19456032 -0.34411754  0.1201262 ] i: 3\n",
      "error:  4, W: [-0.19456032 -0.34411754 -0.0798738 ] i: 0\n",
      "error:  4, W: [ 0.00543968 -0.34411754  0.1201262 ] i: 1\n",
      "error:  4, W: [ 0.00543968 -0.14411754  0.3201262 ] i: 2\n",
      "error:  6, W: [-0.19456032 -0.34411754  0.1201262 ] i: 3\n",
      "error:  4, W: [-0.19456032 -0.34411754 -0.0798738 ] i: 0\n",
      "error:  4, W: [ 0.00543968 -0.34411754  0.1201262 ] i: 1\n",
      "error:  4, W: [ 0.00543968 -0.14411754  0.3201262 ] i: 2\n",
      "error:  6, W: [-0.19456032 -0.34411754  0.1201262 ] i: 3\n",
      "error:  4, W: [-0.19456032 -0.34411754 -0.0798738 ] i: 0\n",
      "error:  4, W: [ 0.00543968 -0.34411754  0.1201262 ] i: 1\n",
      "error:  4, W: [ 0.00543968 -0.14411754  0.3201262 ] i: 2\n",
      "error:  6, W: [-0.19456032 -0.34411754  0.1201262 ] i: 3\n",
      "error:  4, W: [-0.19456032 -0.34411754 -0.0798738 ] i: 0\n",
      "error:  4, W: [ 0.00543968 -0.34411754  0.1201262 ] i: 1\n",
      "error:  4, W: [ 0.00543968 -0.14411754  0.3201262 ] i: 2\n",
      "error:  6, W: [-0.19456032 -0.34411754  0.1201262 ] i: 3\n",
      "error:  4, W: [-0.19456032 -0.34411754 -0.0798738 ] i: 0\n",
      "error:  4, W: [ 0.00543968 -0.34411754  0.1201262 ] i: 1\n",
      "error:  4, W: [ 0.00543968 -0.14411754  0.3201262 ] i: 2\n",
      "error:  6, W: [-0.19456032 -0.34411754  0.1201262 ] i: 3\n",
      "error:  4, W: [-0.19456032 -0.34411754 -0.0798738 ] i: 0\n",
      "error:  4, W: [ 0.00543968 -0.34411754  0.1201262 ] i: 1\n",
      "error:  4, W: [ 0.00543968 -0.14411754  0.3201262 ] i: 2\n",
      "error:  6, W: [-0.19456032 -0.34411754  0.1201262 ] i: 3\n",
      "error:  4, W: [-0.19456032 -0.34411754 -0.0798738 ] i: 0\n",
      "error:  4, W: [ 0.00543968 -0.34411754  0.1201262 ] i: 1\n",
      "error:  4, W: [ 0.00543968 -0.14411754  0.3201262 ] i: 2\n",
      "error:  6, W: [-0.19456032 -0.34411754  0.1201262 ] i: 3\n",
      "error:  4, W: [-0.19456032 -0.34411754 -0.0798738 ] i: 0\n",
      "error:  4, W: [ 0.00543968 -0.34411754  0.1201262 ] i: 1\n",
      "error:  4, W: [ 0.00543968 -0.14411754  0.3201262 ] i: 2\n",
      "error:  6, W: [-0.19456032 -0.34411754  0.1201262 ] i: 3\n",
      "error:  4, W: [-0.19456032 -0.34411754 -0.0798738 ] i: 0\n",
      "error:  4, W: [ 0.00543968 -0.34411754  0.1201262 ] i: 1\n",
      "error:  4, W: [ 0.00543968 -0.14411754  0.3201262 ] i: 2\n",
      "error:  6, W: [-0.19456032 -0.34411754  0.1201262 ] i: 3\n",
      "error:  4, W: [-0.19456032 -0.34411754 -0.0798738 ] i: 0\n",
      "error:  4, W: [ 0.00543968 -0.34411754  0.1201262 ] i: 1\n",
      "error:  4, W: [ 0.00543968 -0.14411754  0.3201262 ] i: 2\n",
      "error:  6, W: [-0.19456032 -0.34411754  0.1201262 ] i: 3\n",
      "error:  4, W: [-0.19456032 -0.34411754 -0.0798738 ] i: 0\n",
      "error:  4, W: [ 0.00543968 -0.34411754  0.1201262 ] i: 1\n",
      "error:  4, W: [ 0.00543968 -0.14411754  0.3201262 ] i: 2\n",
      "error:  6, W: [-0.19456032 -0.34411754  0.1201262 ] i: 3\n",
      "error:  4, W: [-0.19456032 -0.34411754 -0.0798738 ] i: 0\n",
      "error:  4, W: [ 0.00543968 -0.34411754  0.1201262 ] i: 1\n",
      "error:  4, W: [ 0.00543968 -0.14411754  0.3201262 ] i: 2\n",
      "error:  6, W: [-0.19456032 -0.34411754  0.1201262 ] i: 3\n",
      "error:  4, W: [-0.19456032 -0.34411754 -0.0798738 ] i: 0\n",
      "error:  4, W: [ 0.00543968 -0.34411754  0.1201262 ] i: 1\n",
      "error:  4, W: [ 0.00543968 -0.14411754  0.3201262 ] i: 2\n",
      "error:  6, W: [-0.19456032 -0.34411754  0.1201262 ] i: 3\n",
      "error:  4, W: [-0.19456032 -0.34411754 -0.0798738 ] i: 0\n",
      "error:  4, W: [ 0.00543968 -0.34411754  0.1201262 ] i: 1\n",
      "error:  4, W: [ 0.00543968 -0.14411754  0.3201262 ] i: 2\n",
      "error:  6, W: [-0.19456032 -0.34411754  0.1201262 ] i: 3\n",
      "error:  4, W: [-0.19456032 -0.34411754 -0.0798738 ] i: 0\n",
      "error:  4, W: [ 0.00543968 -0.34411754  0.1201262 ] i: 1\n",
      "error:  4, W: [ 0.00543968 -0.14411754  0.3201262 ] i: 2\n",
      "error:  6, W: [-0.19456032 -0.34411754  0.1201262 ] i: 3\n",
      "error:  4, W: [-0.19456032 -0.34411754 -0.0798738 ] i: 0\n",
      "error:  4, W: [ 0.00543968 -0.34411754  0.1201262 ] i: 1\n",
      "error:  4, W: [ 0.00543968 -0.14411754  0.3201262 ] i: 2\n",
      "error:  6, W: [-0.19456032 -0.34411754  0.1201262 ] i: 3\n",
      "error:  4, W: [-0.19456032 -0.34411754 -0.0798738 ] i: 0\n",
      "error:  4, W: [ 0.00543968 -0.34411754  0.1201262 ] i: 1\n",
      "error:  4, W: [ 0.00543968 -0.14411754  0.3201262 ] i: 2\n",
      "error:  6, W: [-0.19456032 -0.34411754  0.1201262 ] i: 3\n",
      "error:  4, W: [-0.19456032 -0.34411754 -0.0798738 ] i: 0\n",
      "error:  4, W: [ 0.00543968 -0.34411754  0.1201262 ] i: 1\n",
      "error:  4, W: [ 0.00543968 -0.14411754  0.3201262 ] i: 2\n",
      "error:  6, W: [-0.19456032 -0.34411754  0.1201262 ] i: 3\n",
      "error:  4, W: [-0.19456032 -0.34411754 -0.0798738 ] i: 0\n",
      "error:  4, W: [ 0.00543968 -0.34411754  0.1201262 ] i: 1\n",
      "error:  4, W: [ 0.00543968 -0.14411754  0.3201262 ] i: 2\n",
      "error:  6, W: [-0.19456032 -0.34411754  0.1201262 ] i: 3\n",
      "error:  4, W: [-0.19456032 -0.34411754 -0.0798738 ] i: 0\n",
      "error:  4, W: [ 0.00543968 -0.34411754  0.1201262 ] i: 1\n",
      "error:  4, W: [ 0.00543968 -0.14411754  0.3201262 ] i: 2\n",
      "error:  6, W: [-0.19456032 -0.34411754  0.1201262 ] i: 3\n",
      "error:  4, W: [-0.19456032 -0.34411754 -0.0798738 ] i: 0\n",
      "error:  4, W: [ 0.00543968 -0.34411754  0.1201262 ] i: 1\n",
      "error:  4, W: [ 0.00543968 -0.14411754  0.3201262 ] i: 2\n",
      "error:  6, W: [-0.19456032 -0.34411754  0.1201262 ] i: 3\n",
      "error:  4, W: [-0.19456032 -0.34411754 -0.0798738 ] i: 0\n",
      "error:  4, W: [ 0.00543968 -0.34411754  0.1201262 ] i: 1\n",
      "error:  4, W: [ 0.00543968 -0.14411754  0.3201262 ] i: 2\n",
      "error:  6, W: [-0.19456032 -0.34411754  0.1201262 ] i: 3\n",
      "error:  4, W: [-0.19456032 -0.34411754 -0.0798738 ] i: 0\n",
      "error:  4, W: [ 0.00543968 -0.34411754  0.1201262 ] i: 1\n",
      "error:  4, W: [ 0.00543968 -0.14411754  0.3201262 ] i: 2\n",
      "error:  6, W: [-0.19456032 -0.34411754  0.1201262 ] i: 3\n",
      "error:  4, W: [-0.19456032 -0.34411754 -0.0798738 ] i: 0\n",
      "error:  4, W: [ 0.00543968 -0.34411754  0.1201262 ] i: 1\n",
      "error:  4, W: [ 0.00543968 -0.14411754  0.3201262 ] i: 2\n",
      "error:  6, W: [-0.19456032 -0.34411754  0.1201262 ] i: 3\n",
      "error:  4, W: [-0.19456032 -0.34411754 -0.0798738 ] i: 0\n",
      "error:  4, W: [ 0.00543968 -0.34411754  0.1201262 ] i: 1\n",
      "error:  4, W: [ 0.00543968 -0.14411754  0.3201262 ] i: 2\n",
      "error:  6, W: [-0.19456032 -0.34411754  0.1201262 ] i: 3\n",
      "error:  4, W: [-0.19456032 -0.34411754 -0.0798738 ] i: 0\n",
      "error:  4, W: [ 0.00543968 -0.34411754  0.1201262 ] i: 1\n",
      "error:  4, W: [ 0.00543968 -0.14411754  0.3201262 ] i: 2\n",
      "error:  6, W: [-0.19456032 -0.34411754  0.1201262 ] i: 3\n",
      "error:  4, W: [-0.19456032 -0.34411754 -0.0798738 ] i: 0\n",
      "error:  4, W: [ 0.00543968 -0.34411754  0.1201262 ] i: 1\n",
      "error:  4, W: [ 0.00543968 -0.14411754  0.3201262 ] i: 2\n",
      "error:  6, W: [-0.19456032 -0.34411754  0.1201262 ] i: 3\n",
      "error:  4, W: [-0.19456032 -0.34411754 -0.0798738 ] i: 0\n",
      "error:  4, W: [ 0.00543968 -0.34411754  0.1201262 ] i: 1\n",
      "error:  4, W: [ 0.00543968 -0.14411754  0.3201262 ] i: 2\n",
      "error:  6, W: [-0.19456032 -0.34411754  0.1201262 ] i: 3\n",
      "error:  4, W: [-0.19456032 -0.34411754 -0.0798738 ] i: 0\n",
      "error:  4, W: [ 0.00543968 -0.34411754  0.1201262 ] i: 1\n",
      "error:  4, W: [ 0.00543968 -0.14411754  0.3201262 ] i: 2\n",
      "error:  6, W: [-0.19456032 -0.34411754  0.1201262 ] i: 3\n",
      "error:  4, W: [-0.19456032 -0.34411754 -0.0798738 ] i: 0\n",
      "error:  4, W: [ 0.00543968 -0.34411754  0.1201262 ] i: 1\n",
      "error:  4, W: [ 0.00543968 -0.14411754  0.3201262 ] i: 2\n",
      "error:  6, W: [-0.19456032 -0.34411754  0.1201262 ] i: 3\n",
      "error:  4, W: [-0.19456032 -0.34411754 -0.0798738 ] i: 0\n",
      "error:  4, W: [ 0.00543968 -0.34411754  0.1201262 ] i: 1\n",
      "error:  4, W: [ 0.00543968 -0.14411754  0.3201262 ] i: 2\n",
      "error:  6, W: [-0.19456032 -0.34411754  0.1201262 ] i: 3\n",
      "error:  4, W: [-0.19456032 -0.34411754 -0.0798738 ] i: 0\n",
      "error:  4, W: [ 0.00543968 -0.34411754  0.1201262 ] i: 1\n",
      "error:  4, W: [ 0.00543968 -0.14411754  0.3201262 ] i: 2\n",
      "error:  6, W: [-0.19456032 -0.34411754  0.1201262 ] i: 3\n",
      "error:  4, W: [-0.19456032 -0.34411754 -0.0798738 ] i: 0\n",
      "error:  4, W: [ 0.00543968 -0.34411754  0.1201262 ] i: 1\n",
      "error:  4, W: [ 0.00543968 -0.14411754  0.3201262 ] i: 2\n",
      "error:  6, W: [-0.19456032 -0.34411754  0.1201262 ] i: 3\n",
      "error:  4, W: [-0.19456032 -0.34411754 -0.0798738 ] i: 0\n",
      "error:  4, W: [ 0.00543968 -0.34411754  0.1201262 ] i: 1\n",
      "error:  4, W: [ 0.00543968 -0.14411754  0.3201262 ] i: 2\n",
      "error:  6, W: [-0.19456032 -0.34411754  0.1201262 ] i: 3\n",
      "error:  4, W: [-0.19456032 -0.34411754 -0.0798738 ] i: 0\n",
      "error:  4, W: [ 0.00543968 -0.34411754  0.1201262 ] i: 1\n",
      "error:  4, W: [ 0.00543968 -0.14411754  0.3201262 ] i: 2\n",
      "error:  6, W: [-0.19456032 -0.34411754  0.1201262 ] i: 3\n",
      "error:  4, W: [-0.19456032 -0.34411754 -0.0798738 ] i: 0\n",
      "error:  4, W: [ 0.00543968 -0.34411754  0.1201262 ] i: 1\n",
      "error:  4, W: [ 0.00543968 -0.14411754  0.3201262 ] i: 2\n",
      "error:  6, W: [-0.19456032 -0.34411754  0.1201262 ] i: 3\n",
      "error:  4, W: [-0.19456032 -0.34411754 -0.0798738 ] i: 0\n",
      "error:  4, W: [ 0.00543968 -0.34411754  0.1201262 ] i: 1\n",
      "error:  4, W: [ 0.00543968 -0.14411754  0.3201262 ] i: 2\n",
      "error:  6, W: [-0.19456032 -0.34411754  0.1201262 ] i: 3\n",
      "error:  4, W: [-0.19456032 -0.34411754 -0.0798738 ] i: 0\n",
      "error:  4, W: [ 0.00543968 -0.34411754  0.1201262 ] i: 1\n",
      "error:  4, W: [ 0.00543968 -0.14411754  0.3201262 ] i: 2\n",
      "error:  6, W: [-0.19456032 -0.34411754  0.1201262 ] i: 3\n",
      "error:  4, W: [-0.19456032 -0.34411754 -0.0798738 ] i: 0\n",
      "error:  4, W: [ 0.00543968 -0.34411754  0.1201262 ] i: 1\n",
      "error:  4, W: [ 0.00543968 -0.14411754  0.3201262 ] i: 2\n",
      "error:  6, W: [-0.19456032 -0.34411754  0.1201262 ] i: 3\n",
      "error:  4, W: [-0.19456032 -0.34411754 -0.0798738 ] i: 0\n",
      "error:  4, W: [ 0.00543968 -0.34411754  0.1201262 ] i: 1\n",
      "error:  4, W: [ 0.00543968 -0.14411754  0.3201262 ] i: 2\n",
      "error:  6, W: [-0.19456032 -0.34411754  0.1201262 ] i: 3\n",
      "error:  4, W: [-0.19456032 -0.34411754 -0.0798738 ] i: 0\n",
      "error:  4, W: [ 0.00543968 -0.34411754  0.1201262 ] i: 1\n",
      "error:  4, W: [ 0.00543968 -0.14411754  0.3201262 ] i: 2\n",
      "error:  6, W: [-0.19456032 -0.34411754  0.1201262 ] i: 3\n",
      "error:  4, W: [-0.19456032 -0.34411754 -0.0798738 ] i: 0\n",
      "error:  4, W: [ 0.00543968 -0.34411754  0.1201262 ] i: 1\n",
      "error:  4, W: [ 0.00543968 -0.14411754  0.3201262 ] i: 2\n",
      "error:  6, W: [-0.19456032 -0.34411754  0.1201262 ] i: 3\n",
      "error:  4, W: [-0.19456032 -0.34411754 -0.0798738 ] i: 0\n",
      "error:  4, W: [ 0.00543968 -0.34411754  0.1201262 ] i: 1\n",
      "error:  4, W: [ 0.00543968 -0.14411754  0.3201262 ] i: 2\n",
      "error:  6, W: [-0.19456032 -0.34411754  0.1201262 ] i: 3\n",
      "error:  4, W: [-0.19456032 -0.34411754 -0.0798738 ] i: 0\n",
      "error:  4, W: [ 0.00543968 -0.34411754  0.1201262 ] i: 1\n",
      "error:  4, W: [ 0.00543968 -0.14411754  0.3201262 ] i: 2\n",
      "error:  6, W: [-0.19456032 -0.34411754  0.1201262 ] i: 3\n",
      "error:  4, W: [-0.19456032 -0.34411754 -0.0798738 ] i: 0\n",
      "error:  4, W: [ 0.00543968 -0.34411754  0.1201262 ] i: 1\n",
      "error:  4, W: [ 0.00543968 -0.14411754  0.3201262 ] i: 2\n",
      "error:  6, W: [-0.19456032 -0.34411754  0.1201262 ] i: 3\n",
      "error:  4, W: [-0.19456032 -0.34411754 -0.0798738 ] i: 0\n",
      "error:  4, W: [ 0.00543968 -0.34411754  0.1201262 ] i: 1\n",
      "error:  4, W: [ 0.00543968 -0.14411754  0.3201262 ] i: 2\n",
      "error:  6, W: [-0.19456032 -0.34411754  0.1201262 ] i: 3\n",
      "error:  4, W: [-0.19456032 -0.34411754 -0.0798738 ] i: 0\n",
      "error:  4, W: [ 0.00543968 -0.34411754  0.1201262 ] i: 1\n",
      "error:  4, W: [ 0.00543968 -0.14411754  0.3201262 ] i: 2\n",
      "error:  6, W: [-0.19456032 -0.34411754  0.1201262 ] i: 3\n",
      "error:  4, W: [-0.19456032 -0.34411754 -0.0798738 ] i: 0\n",
      "error:  4, W: [ 0.00543968 -0.34411754  0.1201262 ] i: 1\n",
      "error:  4, W: [ 0.00543968 -0.14411754  0.3201262 ] i: 2\n",
      "error:  6, W: [-0.19456032 -0.34411754  0.1201262 ] i: 3\n",
      "error:  4, W: [-0.19456032 -0.34411754 -0.0798738 ] i: 0\n",
      "error:  4, W: [ 0.00543968 -0.34411754  0.1201262 ] i: 1\n",
      "error:  4, W: [ 0.00543968 -0.14411754  0.3201262 ] i: 2\n",
      "error:  6, W: [-0.19456032 -0.34411754  0.1201262 ] i: 3\n",
      "error:  4, W: [-0.19456032 -0.34411754 -0.0798738 ] i: 0\n",
      "error:  4, W: [ 0.00543968 -0.34411754  0.1201262 ] i: 1\n",
      "error:  4, W: [ 0.00543968 -0.14411754  0.3201262 ] i: 2\n",
      "error:  6, W: [-0.19456032 -0.34411754  0.1201262 ] i: 3\n",
      "error:  4, W: [-0.19456032 -0.34411754 -0.0798738 ] i: 0\n",
      "error:  4, W: [ 0.00543968 -0.34411754  0.1201262 ] i: 1\n",
      "error:  4, W: [ 0.00543968 -0.14411754  0.3201262 ] i: 2\n",
      "error:  6, W: [-0.19456032 -0.34411754  0.1201262 ] i: 3\n",
      "error:  4, W: [-0.19456032 -0.34411754 -0.0798738 ] i: 0\n",
      "error:  4, W: [ 0.00543968 -0.34411754  0.1201262 ] i: 1\n",
      "error:  4, W: [ 0.00543968 -0.14411754  0.3201262 ] i: 2\n",
      "error:  6, W: [-0.19456032 -0.34411754  0.1201262 ] i: 3\n",
      "error:  4, W: [-0.19456032 -0.34411754 -0.0798738 ] i: 0\n",
      "error:  4, W: [ 0.00543968 -0.34411754  0.1201262 ] i: 1\n",
      "error:  4, W: [ 0.00543968 -0.14411754  0.3201262 ] i: 2\n",
      "error:  6, W: [-0.19456032 -0.34411754  0.1201262 ] i: 3\n",
      "error:  4, W: [-0.19456032 -0.34411754 -0.0798738 ] i: 0\n",
      "error:  4, W: [ 0.00543968 -0.34411754  0.1201262 ] i: 1\n",
      "error:  4, W: [ 0.00543968 -0.14411754  0.3201262 ] i: 2\n",
      "error:  6, W: [-0.19456032 -0.34411754  0.1201262 ] i: 3\n",
      "error:  4, W: [-0.19456032 -0.34411754 -0.0798738 ] i: 0\n",
      "error:  4, W: [ 0.00543968 -0.34411754  0.1201262 ] i: 1\n",
      "error:  4, W: [ 0.00543968 -0.14411754  0.3201262 ] i: 2\n",
      "error:  6, W: [-0.19456032 -0.34411754  0.1201262 ] i: 3\n",
      "error:  4, W: [-0.19456032 -0.34411754 -0.0798738 ] i: 0\n",
      "error:  4, W: [ 0.00543968 -0.34411754  0.1201262 ] i: 1\n",
      "error:  4, W: [ 0.00543968 -0.14411754  0.3201262 ] i: 2\n",
      "error:  6, W: [-0.19456032 -0.34411754  0.1201262 ] i: 3\n",
      "error:  4, W: [-0.19456032 -0.34411754 -0.0798738 ] i: 0\n",
      "error:  4, W: [ 0.00543968 -0.34411754  0.1201262 ] i: 1\n",
      "error:  4, W: [ 0.00543968 -0.14411754  0.3201262 ] i: 2\n",
      "error:  6, W: [-0.19456032 -0.34411754  0.1201262 ] i: 3\n",
      "error:  4, W: [-0.19456032 -0.34411754 -0.0798738 ] i: 0\n",
      "error:  4, W: [ 0.00543968 -0.34411754  0.1201262 ] i: 1\n",
      "error:  4, W: [ 0.00543968 -0.14411754  0.3201262 ] i: 2\n",
      "error:  6, W: [-0.19456032 -0.34411754  0.1201262 ] i: 3\n",
      "error:  4, W: [-0.19456032 -0.34411754 -0.0798738 ] i: 0\n",
      "error:  4, W: [ 0.00543968 -0.34411754  0.1201262 ] i: 1\n",
      "error:  4, W: [ 0.00543968 -0.14411754  0.3201262 ] i: 2\n",
      "error:  6, W: [-0.19456032 -0.34411754  0.1201262 ] i: 3\n",
      "error:  4, W: [-0.19456032 -0.34411754 -0.0798738 ] i: 0\n",
      "error:  4, W: [ 0.00543968 -0.34411754  0.1201262 ] i: 1\n",
      "error:  4, W: [ 0.00543968 -0.14411754  0.3201262 ] i: 2\n",
      "error:  6, W: [-0.19456032 -0.34411754  0.1201262 ] i: 3\n",
      "error:  4, W: [-0.19456032 -0.34411754 -0.0798738 ] i: 0\n",
      "error:  4, W: [ 0.00543968 -0.34411754  0.1201262 ] i: 1\n",
      "error:  4, W: [ 0.00543968 -0.14411754  0.3201262 ] i: 2\n",
      "error:  6, W: [-0.19456032 -0.34411754  0.1201262 ] i: 3\n",
      "error:  4, W: [-0.19456032 -0.34411754 -0.0798738 ] i: 0\n",
      "error:  4, W: [ 0.00543968 -0.34411754  0.1201262 ] i: 1\n",
      "error:  4, W: [ 0.00543968 -0.14411754  0.3201262 ] i: 2\n",
      "error:  6, W: [-0.19456032 -0.34411754  0.1201262 ] i: 3\n",
      "error:  4, W: [-0.19456032 -0.34411754 -0.0798738 ] i: 0\n",
      "error:  4, W: [ 0.00543968 -0.34411754  0.1201262 ] i: 1\n",
      "error:  4, W: [ 0.00543968 -0.14411754  0.3201262 ] i: 2\n",
      "error:  6, W: [-0.19456032 -0.34411754  0.1201262 ] i: 3\n",
      "error:  4, W: [-0.19456032 -0.34411754 -0.0798738 ] i: 0\n",
      "error:  4, W: [ 0.00543968 -0.34411754  0.1201262 ] i: 1\n",
      "error:  4, W: [ 0.00543968 -0.14411754  0.3201262 ] i: 2\n",
      "error:  6, W: [-0.19456032 -0.34411754  0.1201262 ] i: 3\n",
      "error:  4, W: [-0.19456032 -0.34411754 -0.0798738 ] i: 0\n",
      "error:  4, W: [ 0.00543968 -0.34411754  0.1201262 ] i: 1\n",
      "error:  4, W: [ 0.00543968 -0.14411754  0.3201262 ] i: 2\n",
      "error:  6, W: [-0.19456032 -0.34411754  0.1201262 ] i: 3\n",
      "error:  4, W: [-0.19456032 -0.34411754 -0.0798738 ] i: 0\n",
      "error:  4, W: [ 0.00543968 -0.34411754  0.1201262 ] i: 1\n",
      "error:  4, W: [ 0.00543968 -0.14411754  0.3201262 ] i: 2\n",
      "error:  6, W: [-0.19456032 -0.34411754  0.1201262 ] i: 3\n",
      "error:  4, W: [-0.19456032 -0.34411754 -0.0798738 ] i: 0\n",
      "error:  4, W: [ 0.00543968 -0.34411754  0.1201262 ] i: 1\n",
      "error:  4, W: [ 0.00543968 -0.14411754  0.3201262 ] i: 2\n",
      "error:  6, W: [-0.19456032 -0.34411754  0.1201262 ] i: 3\n",
      "error:  4, W: [-0.19456032 -0.34411754 -0.0798738 ] i: 0\n",
      "error:  4, W: [ 0.00543968 -0.34411754  0.1201262 ] i: 1\n",
      "error:  4, W: [ 0.00543968 -0.14411754  0.3201262 ] i: 2\n",
      "error:  6, W: [-0.19456032 -0.34411754  0.1201262 ] i: 3\n",
      "error:  4, W: [-0.19456032 -0.34411754 -0.0798738 ] i: 0\n",
      "error:  4, W: [ 0.00543968 -0.34411754  0.1201262 ] i: 1\n",
      "error:  4, W: [ 0.00543968 -0.14411754  0.3201262 ] i: 2\n",
      "error:  6, W: [-0.19456032 -0.34411754  0.1201262 ] i: 3\n",
      "error:  4, W: [-0.19456032 -0.34411754 -0.0798738 ] i: 0\n",
      "error:  4, W: [ 0.00543968 -0.34411754  0.1201262 ] i: 1\n",
      "error:  4, W: [ 0.00543968 -0.14411754  0.3201262 ] i: 2\n",
      "error:  6, W: [-0.19456032 -0.34411754  0.1201262 ] i: 3\n",
      "error:  4, W: [-0.19456032 -0.34411754 -0.0798738 ] i: 0\n",
      "error:  4, W: [ 0.00543968 -0.34411754  0.1201262 ] i: 1\n",
      "error:  4, W: [ 0.00543968 -0.14411754  0.3201262 ] i: 2\n",
      "error:  6, W: [-0.19456032 -0.34411754  0.1201262 ] i: 3\n",
      "error:  4, W: [-0.19456032 -0.34411754 -0.0798738 ] i: 0\n",
      "error:  4, W: [ 0.00543968 -0.34411754  0.1201262 ] i: 1\n",
      "error:  4, W: [ 0.00543968 -0.14411754  0.3201262 ] i: 2\n",
      "error:  6, W: [-0.19456032 -0.34411754  0.1201262 ] i: 3\n",
      "error:  4, W: [-0.19456032 -0.34411754 -0.0798738 ] i: 0\n",
      "error:  4, W: [ 0.00543968 -0.34411754  0.1201262 ] i: 1\n",
      "error:  4, W: [ 0.00543968 -0.14411754  0.3201262 ] i: 2\n",
      "error:  6, W: [-0.19456032 -0.34411754  0.1201262 ] i: 3\n",
      "error:  4, W: [-0.19456032 -0.34411754 -0.0798738 ] i: 0\n",
      "error:  4, W: [ 0.00543968 -0.34411754  0.1201262 ] i: 1\n",
      "error:  4, W: [ 0.00543968 -0.14411754  0.3201262 ] i: 2\n",
      "error:  6, W: [-0.19456032 -0.34411754  0.1201262 ] i: 3\n",
      "error:  4, W: [-0.19456032 -0.34411754 -0.0798738 ] i: 0\n",
      "error:  4, W: [ 0.00543968 -0.34411754  0.1201262 ] i: 1\n",
      "error:  4, W: [ 0.00543968 -0.14411754  0.3201262 ] i: 2\n",
      "error:  6, W: [-0.19456032 -0.34411754  0.1201262 ] i: 3\n",
      "error:  4, W: [-0.19456032 -0.34411754 -0.0798738 ] i: 0\n",
      "error:  4, W: [ 0.00543968 -0.34411754  0.1201262 ] i: 1\n",
      "error:  4, W: [ 0.00543968 -0.14411754  0.3201262 ] i: 2\n",
      "error:  6, W: [-0.19456032 -0.34411754  0.1201262 ] i: 3\n",
      "error:  4, W: [-0.19456032 -0.34411754 -0.0798738 ] i: 0\n",
      "error:  4, W: [ 0.00543968 -0.34411754  0.1201262 ] i: 1\n",
      "error:  4, W: [ 0.00543968 -0.14411754  0.3201262 ] i: 2\n",
      "error:  6, W: [-0.19456032 -0.34411754  0.1201262 ] i: 3\n",
      "error:  4, W: [-0.19456032 -0.34411754 -0.0798738 ] i: 0\n",
      "error:  4, W: [ 0.00543968 -0.34411754  0.1201262 ] i: 1\n",
      "error:  4, W: [ 0.00543968 -0.14411754  0.3201262 ] i: 2\n",
      "error:  6, W: [-0.19456032 -0.34411754  0.1201262 ] i: 3\n",
      "error:  4, W: [-0.19456032 -0.34411754 -0.0798738 ] i: 0\n",
      "error:  4, W: [ 0.00543968 -0.34411754  0.1201262 ] i: 1\n",
      "error:  4, W: [ 0.00543968 -0.14411754  0.3201262 ] i: 2\n",
      "error:  6, W: [-0.19456032 -0.34411754  0.1201262 ] i: 3\n",
      "error:  4, W: [-0.19456032 -0.34411754 -0.0798738 ] i: 0\n",
      "error:  4, W: [ 0.00543968 -0.34411754  0.1201262 ] i: 1\n",
      "error:  4, W: [ 0.00543968 -0.14411754  0.3201262 ] i: 2\n",
      "error:  6, W: [-0.19456032 -0.34411754  0.1201262 ] i: 3\n",
      "error:  4, W: [-0.19456032 -0.34411754 -0.0798738 ] i: 0\n",
      "error:  4, W: [ 0.00543968 -0.34411754  0.1201262 ] i: 1\n",
      "error:  4, W: [ 0.00543968 -0.14411754  0.3201262 ] i: 2\n",
      "error:  6, W: [-0.19456032 -0.34411754  0.1201262 ] i: 3\n",
      "error:  4, W: [-0.19456032 -0.34411754 -0.0798738 ] i: 0\n",
      "error:  4, W: [ 0.00543968 -0.34411754  0.1201262 ] i: 1\n",
      "error:  4, W: [ 0.00543968 -0.14411754  0.3201262 ] i: 2\n",
      "error:  6, W: [-0.19456032 -0.34411754  0.1201262 ] i: 3\n",
      "error:  4, W: [-0.19456032 -0.34411754 -0.0798738 ] i: 0\n",
      "error:  4, W: [ 0.00543968 -0.34411754  0.1201262 ] i: 1\n",
      "error:  4, W: [ 0.00543968 -0.14411754  0.3201262 ] i: 2\n",
      "error:  6, W: [-0.19456032 -0.34411754  0.1201262 ] i: 3\n",
      "error:  4, W: [-0.19456032 -0.34411754 -0.0798738 ] i: 0\n",
      "error:  4, W: [ 0.00543968 -0.34411754  0.1201262 ] i: 1\n",
      "error:  4, W: [ 0.00543968 -0.14411754  0.3201262 ] i: 2\n",
      "error:  6, W: [-0.19456032 -0.34411754  0.1201262 ] i: 3\n",
      "error:  4, W: [-0.19456032 -0.34411754 -0.0798738 ] i: 0\n",
      "error:  4, W: [ 0.00543968 -0.34411754  0.1201262 ] i: 1\n",
      "error:  4, W: [ 0.00543968 -0.14411754  0.3201262 ] i: 2\n",
      "error:  6, W: [-0.19456032 -0.34411754  0.1201262 ] i: 3\n",
      "error:  4, W: [-0.19456032 -0.34411754 -0.0798738 ] i: 0\n",
      "error:  4, W: [ 0.00543968 -0.34411754  0.1201262 ] i: 1\n",
      "error:  4, W: [ 0.00543968 -0.14411754  0.3201262 ] i: 2\n",
      "error:  6, W: [-0.19456032 -0.34411754  0.1201262 ] i: 3\n",
      "error:  4, W: [-0.19456032 -0.34411754 -0.0798738 ] i: 0\n",
      "error:  4, W: [ 0.00543968 -0.34411754  0.1201262 ] i: 1\n",
      "error:  4, W: [ 0.00543968 -0.14411754  0.3201262 ] i: 2\n",
      "error:  6, W: [-0.19456032 -0.34411754  0.1201262 ] i: 3\n",
      "error:  4, W: [-0.19456032 -0.34411754 -0.0798738 ] i: 0\n",
      "error:  4, W: [ 0.00543968 -0.34411754  0.1201262 ] i: 1\n",
      "error:  4, W: [ 0.00543968 -0.14411754  0.3201262 ] i: 2\n",
      "error:  6, W: [-0.19456032 -0.34411754  0.1201262 ] i: 3\n",
      "error:  4, W: [-0.19456032 -0.34411754 -0.0798738 ] i: 0\n",
      "error:  4, W: [ 0.00543968 -0.34411754  0.1201262 ] i: 1\n",
      "error:  4, W: [ 0.00543968 -0.14411754  0.3201262 ] i: 2\n",
      "error:  6, W: [-0.19456032 -0.34411754  0.1201262 ] i: 3\n",
      "error:  4, W: [-0.19456032 -0.34411754 -0.0798738 ] i: 0\n",
      "error:  4, W: [ 0.00543968 -0.34411754  0.1201262 ] i: 1\n",
      "error:  4, W: [ 0.00543968 -0.14411754  0.3201262 ] i: 2\n",
      "error:  6, W: [-0.19456032 -0.34411754  0.1201262 ] i: 3\n"
     ]
    }
   ],
   "source": [
    "learning_rate = 0.1\n",
    "W = np.random.normal(0, size=3)\n",
    "print('starting error: %2g' % total_error(data, W, output))\n",
    "\n",
    "for epoch in range(100):\n",
    "    for i in range(len(data)):\n",
    "        W = new_w(data[i,:], W, output[i], learning_rate)\n",
    "        \n",
    "        print('error: %2g, W: %s i: %i' % (total_error(data, W, output), str(W), i))\n",
    "    #print('error: %2g, W: %s i: %i' % (total_error(data, W, output), str(W), i))\n",
    "\n",
    "    if total_error(data, W, output) == 0:\n",
    "        break"
   ]
  },
  {
   "cell_type": "markdown",
   "metadata": {
    "slideshow": {
     "slide_type": "subslide"
    }
   },
   "source": [
    "### Linear Separability\n",
    "\n",
    "![](http://natureofcode.com/book/imgs/chapter10/ch10_12.png)\n",
    "![](http://natureofcode.com/book/imgs/chapter10/ch10_13.png)"
   ]
  },
  {
   "cell_type": "markdown",
   "metadata": {
    "slideshow": {
     "slide_type": "subslide"
    }
   },
   "source": [
    "\n",
    "#### Multilayer perceptron\n",
    "![](http://natureofcode.com/book/imgs/chapter10/ch10_14.png)"
   ]
  },
  {
   "cell_type": "markdown",
   "metadata": {
    "slideshow": {
     "slide_type": "slide"
    }
   },
   "source": [
    "## Regression"
   ]
  },
  {
   "cell_type": "code",
   "execution_count": 1,
   "metadata": {
    "slideshow": {
     "slide_type": "subslide"
    }
   },
   "outputs": [
    {
     "data": {
      "text/plain": [
       "<matplotlib.collections.PathCollection at 0x110307f90>"
      ]
     },
     "execution_count": 1,
     "metadata": {},
     "output_type": "execute_result"
    },
    {
     "data": {
      "image/png": "[encoded data removed]",
      "text/plain": [
       "<Figure size 640x480 with 1 Axes>"
      ]
     },
     "metadata": {},
     "output_type": "display_data"
    }
   ],
   "source": [
    "%matplotlib inline\n",
    "\n",
    "import matplotlib\n",
    "import numpy as np\n",
    "import matplotlib.pyplot as plt\n",
    "\n",
    "x = np.random.randint(100, size=30)\n",
    "y = 10 * x - 40 + np.random.normal(size=30) * 40\n",
    "\n",
    "x = x.reshape(-1, 1)\n",
    "data = np.hstack((x, np.ones_like(x)))\n",
    "\n",
    "plt.scatter(x, y)"
   ]
  },
  {
   "cell_type": "code",
   "execution_count": 2,
   "metadata": {
    "slideshow": {
     "slide_type": "subslide"
    }
   },
   "outputs": [],
   "source": [
    "def f(X, W):\n",
    "    return sum([x * w for x, w in zip(X, W)])\n",
    "\n",
    "def new_w(X, W, y, learning_rate):\n",
    "    output = f(X, W)\n",
    "    error = y - output\n",
    "    delta_w = np.array([error * x * learning_rate for x in X])\n",
    "    return W + delta_w\n",
    "\n",
    "def total_error(X, W, y):\n",
    "    return sum([abs(y[i] - f(X[i,], W)) for i in range(len(X))])"
   ]
  },
  {
   "cell_type": "code",
   "execution_count": 3,
   "metadata": {
    "slideshow": {
     "slide_type": "subslide"
    }
   },
   "outputs": [
    {
     "name": "stdout",
     "output_type": "stream",
     "text": [
      "error: 16562.8, W: [-1.66670075  0.06483268]\n",
      "error: 895.504, W: [ 9.56333137 -4.47924312]\n",
      "error: 868.263, W: [ 9.62164068 -8.46148274]\n",
      "error: 845.2, W: [  9.67100735 -11.83298444]\n",
      "error: 827.288, W: [  9.71280288 -14.68741431]\n",
      "error: 812.717, W: [  9.74818842 -17.1040733 ]\n",
      "error: 802.635, W: [  9.77814704 -19.15010033]\n",
      "error: 798.96, W: [  9.80351105 -20.88233754]\n",
      "error: 797.874, W: [  9.82498509 -22.34890942]\n",
      "error: 798.437, W: [  9.84316576 -23.59055987]\n"
     ]
    }
   ],
   "source": [
    "learning_rate = 0.00001\n",
    "W = np.random.normal(size=2)\n",
    "\n",
    "for epoch in range(20000):\n",
    "    if epoch % 2000 == 0:\n",
    "        print('error: %2g, W: %s' % (total_error(data, W, y), str(W)))\n",
    "        \n",
    "    for i in range(len(data)):\n",
    "        W = new_w(data[i,], W, y[i], learning_rate)"
   ]
  },
  {
   "cell_type": "code",
   "execution_count": 4,
   "metadata": {
    "slideshow": {
     "slide_type": "subslide"
    }
   },
   "outputs": [
    {
     "data": {
      "image/png": "[encoded data removed]",
      "text/plain": [
       "<Figure size 640x480 with 1 Axes>"
      ]
     },
     "metadata": {},
     "output_type": "display_data"
    }
   ],
   "source": [
    "from IPython.display import clear_output\n",
    "import time\n",
    "\n",
    "def plot(data, y, W):\n",
    "    plt.scatter(data[:,0], y)\n",
    "    plt.plot([0, 100], [f([0, 1], W), f([100, 1], W)])\n",
    "    plt.title('error: %2g, W: %s' % (total_error(data, W, y), str(W)))\n",
    "    plt.show()\n",
    "    \n",
    "learning_rate = 0.00001\n",
    "W = np.random.normal(size=2)\n",
    "\n",
    "for epoch in range(10):\n",
    "    clear_output()\n",
    "    plot(data, y, W)\n",
    "    time.sleep(1)\n",
    "        \n",
    "    for i in range(len(data)):\n",
    "        W = new_w(data[i,], W, y[i], learning_rate)"
   ]
  },
  {
   "cell_type": "markdown",
   "metadata": {
    "slideshow": {
     "slide_type": "subslide"
    }
   },
   "source": [
    "#### Dynamic Learning Rate"
   ]
  },
  {
   "cell_type": "code",
   "execution_count": 44,
   "metadata": {
    "scrolled": true,
    "slideshow": {
     "slide_type": "fragment"
    }
   },
   "outputs": [
    {
     "name": "stdout",
     "output_type": "stream",
     "text": [
      "error: 15333.9, W: [-0.0158784  -0.59993242], lr: 0.0001\n",
      "error: 1180.42, W: [  9.43345062 -36.43344965], lr: 9e-05\n",
      "error: 1176.08, W: [  9.61612375 -47.9204734 ], lr: 8.1e-05\n",
      "error: 1161.11, W: [  9.70363958 -51.85075112], lr: 7.29e-05\n",
      "error: 1139.87, W: [  9.75655197 -53.21109522], lr: 6.561e-05\n",
      "error: 1117.57, W: [  9.79498678 -53.62712104], lr: 5.9049e-05\n",
      "error: 1095.89, W: [  9.82635133 -53.67646863], lr: 5.31441e-05\n",
      "error: 1077.29, W: [  9.85366238 -53.57993033], lr: 4.78297e-05\n",
      "error: 1061.19, W: [  9.8782758  -53.42702474], lr: 4.30467e-05\n",
      "error: 1046.11, W: [  9.90085519 -53.25569716], lr: 3.8742e-05\n"
     ]
    }
   ],
   "source": [
    "learning_rate = 0.0001\n",
    "W = np.random.normal(size=2)\n",
    "\n",
    "for epoch in range(20000):\n",
    "    if epoch % 2000 == 0:\n",
    "        print('error: %2g, W: %s, lr: %4g' % (total_error(data, W, y), str(W), learning_rate))\n",
    "        learning_rate = learning_rate * 0.9\n",
    "        \n",
    "    for i in range(len(data)):\n",
    "        W = new_w(data[i,], W, y[i], learning_rate)\n",
    "        \n",
    "    if total_error(data, W, y) == 0:\n",
    "        break"
   ]
  },
  {
   "cell_type": "markdown",
   "metadata": {
    "slideshow": {
     "slide_type": "slide"
    }
   },
   "source": [
    "## Iterative Approach\n",
    "![](./figs/iterative.png)"
   ]
  },
  {
   "cell_type": "markdown",
   "metadata": {
    "slideshow": {
     "slide_type": "subslide"
    }
   },
   "source": [
    "![](figs/loss1.png)"
   ]
  },
  {
   "cell_type": "markdown",
   "metadata": {
    "slideshow": {
     "slide_type": "subslide"
    }
   },
   "source": [
    "![](figs/loss2.png)"
   ]
  },
  {
   "cell_type": "markdown",
   "metadata": {
    "slideshow": {
     "slide_type": "subslide"
    }
   },
   "source": [
    "![](figs/loss3.png)"
   ]
  },
  {
   "cell_type": "markdown",
   "metadata": {
    "slideshow": {
     "slide_type": "subslide"
    }
   },
   "source": [
    "![](figs/loss4.png)"
   ]
  },
  {
   "cell_type": "markdown",
   "metadata": {
    "slideshow": {
     "slide_type": "subslide"
    }
   },
   "source": [
    "![](figs/lr1.png)"
   ]
  },
  {
   "cell_type": "markdown",
   "metadata": {
    "slideshow": {
     "slide_type": "subslide"
    }
   },
   "source": [
    "![](figs/lr2.png)"
   ]
  },
  {
   "cell_type": "markdown",
   "metadata": {
    "slideshow": {
     "slide_type": "subslide"
    }
   },
   "source": [
    "![](figs/lr3.png)"
   ]
  },
  {
   "cell_type": "markdown",
   "metadata": {
    "slideshow": {
     "slide_type": "subslide"
    }
   },
   "source": [
    "### Activation Functions: [wiki](https://en.wikipedia.org/wiki/Activation_function)\n",
    "https://en.wikipedia.org/wiki/Activation_function\n",
    "\n",
    "![](./figs/activation-funcs.png)"
   ]
  },
  {
   "cell_type": "markdown",
   "metadata": {
    "slideshow": {
     "slide_type": "subslide"
    }
   },
   "source": [
    "\n",
    "## Convolutional Neural Networks (CNN)\n",
    "\n",
    "![](https://upload.wikimedia.org/wikipedia/commons/6/63/Typical_cnn.png)\n",
    "\n",
    "### Weight Sharing, Convolution"
   ]
  },
  {
   "cell_type": "markdown",
   "metadata": {
    "jp-MarkdownHeadingCollapsed": true,
    "slideshow": {
     "slide_type": "subslide"
    }
   },
   "source": [
    "### Max Pooling\n",
    "![](https://upload.wikimedia.org/wikipedia/commons/e/e9/Max_pooling.png)\n",
    "\n",
    "### Dropout, {L1, L2} regularization, artificial data, etc."
   ]
  },
  {
   "cell_type": "markdown",
   "metadata": {
    "slideshow": {
     "slide_type": "subslide"
    }
   },
   "source": [
    "### Keras\n",
    "#### keras.io\n",
    "\n",
    "![](figs/keras.png)"
   ]
  },
  {
   "cell_type": "markdown",
   "metadata": {
    "slideshow": {
     "slide_type": "subslide"
    }
   },
   "source": [
    "# MNIST\n",
    "\n",
    "![](http://andrea.burattin.net/public-files/stuff/handwritten-digit-recognition/example_mnist.gif)\n"
   ]
  },
  {
   "cell_type": "markdown",
   "metadata": {
    "slideshow": {
     "slide_type": "subslide"
    }
   },
   "source": [
    "# MNIST\n",
    "\n",
    "![](figs/mnist-perfs.png)\n",
    "\n",
    "### Based on keras examples, specifically [this one](https://keras.io/examples/vision/mnist_convnet/)"
   ]
  },
  {
   "cell_type": "code",
   "execution_count": 5,
   "metadata": {
    "slideshow": {
     "slide_type": "subslide"
    }
   },
   "outputs": [
    {
     "name": "stderr",
     "output_type": "stream",
     "text": [
      "2023-10-11 13:25:58.305006: I tensorflow/core/platform/cpu_feature_guard.cc:182] This TensorFlow binary is optimized to use available CPU instructions in performance-critical operations.\n",
      "To enable the following instructions: AVX2 FMA, in other operations, rebuild TensorFlow with the appropriate compiler flags.\n"
     ]
    }
   ],
   "source": [
    "import keras\n",
    "from keras.datasets import mnist\n",
    "from keras.models import Sequential\n",
    "from keras.layers import Dense, Dropout, Flatten\n",
    "from keras.layers import Conv2D, MaxPooling2D\n",
    "from keras import backend as K\n"
   ]
  },
  {
   "cell_type": "code",
   "execution_count": 10,
   "metadata": {
    "slideshow": {
     "slide_type": "subslide"
    }
   },
   "outputs": [
    {
     "name": "stdout",
     "output_type": "stream",
     "text": [
      "x_train shape: (60000, 28, 28, 1)\n",
      "60000 train samples\n",
      "10000 test samples\n"
     ]
    }
   ],
   "source": [
    "batch_size = 128\n",
    "num_classes = 10\n",
    "epochs = 24\n",
    "\n",
    "# input image dimensions\n",
    "img_rows, img_cols = 28, 28\n",
    "\n",
    "# the data, shuffled and split between train and test sets\n",
    "(x_train, y_train), (x_test, y_test) = mnist.load_data()\n",
    "\n",
    "# Check the image data format and reshape the data accordingly\n",
    "if K.image_data_format() == 'channels_first':\n",
    "    x_train = x_train.reshape(x_train.shape[0], 1, img_rows, img_cols)\n",
    "    x_test = x_test.reshape(x_test.shape[0], 1, img_rows, img_cols)\n",
    "    input_shape = (1, img_rows, img_cols)\n",
    "else:\n",
    "    x_train = x_train.reshape(x_train.shape[0], img_rows, img_cols, 1)\n",
    "    x_test = x_test.reshape(x_test.shape[0], img_rows, img_cols, 1)\n",
    "    input_shape = (img_rows, img_cols, 1)\n",
    "\n",
    "# Preprocess the image data:\n",
    "# - Convert pixel values to float32\n",
    "# - Normalize pixel values to a range between 0 and 1\n",
    "x_train = x_train.astype('float32')\n",
    "x_test = x_test.astype('float32')\n",
    "x_train /= 255\n",
    "x_test /= 255\n",
    "\n",
    "print('x_train shape:', x_train.shape)\n",
    "print(x_train.shape[0], 'train samples')\n",
    "print(x_test.shape[0], 'test samples')\n",
    "\n",
    "# Convert class labels to binary class matrices (one-hot encoding)\n",
    "y_train = keras.utils.to_categorical(y_train, num_classes)\n",
    "y_test = keras.utils.to_categorical(y_test, num_classes)"
   ]
  },
  {
   "cell_type": "code",
   "execution_count": 11,
   "metadata": {
    "slideshow": {
     "slide_type": "subslide"
    }
   },
   "outputs": [
    {
     "name": "stdout",
     "output_type": "stream",
     "text": [
      "Epoch 1/24\n",
      "469/469 [==============================] - 51s 107ms/step - loss: 2.2989 - accuracy: 0.1078 - val_loss: 2.2922 - val_accuracy: 0.1445\n",
      "Epoch 2/24\n",
      "469/469 [==============================] - 50s 108ms/step - loss: 2.2872 - accuracy: 0.1547 - val_loss: 2.2781 - val_accuracy: 0.2909\n",
      "Epoch 3/24\n",
      "469/469 [==============================] - 96s 204ms/step - loss: 2.2722 - accuracy: 0.2072 - val_loss: 2.2582 - val_accuracy: 0.4204\n",
      "Epoch 4/24\n",
      "469/469 [==============================] - 61s 130ms/step - loss: 2.2504 - accuracy: 0.2589 - val_loss: 2.2280 - val_accuracy: 0.5184\n",
      "Epoch 5/24\n",
      "469/469 [==============================] - 62s 132ms/step - loss: 2.2152 - accuracy: 0.3146 - val_loss: 2.1781 - val_accuracy: 0.5985\n",
      "Epoch 6/24\n",
      "469/469 [==============================] - 67s 143ms/step - loss: 2.1566 - accuracy: 0.3743 - val_loss: 2.0930 - val_accuracy: 0.6576\n",
      "Epoch 7/24\n",
      "469/469 [==============================] - 60s 129ms/step - loss: 2.0561 - accuracy: 0.4299 - val_loss: 1.9461 - val_accuracy: 0.6952\n",
      "Epoch 8/24\n",
      "469/469 [==============================] - 61s 130ms/step - loss: 1.8977 - accuracy: 0.4854 - val_loss: 1.7161 - val_accuracy: 0.7307\n",
      "Epoch 9/24\n",
      "469/469 [==============================] - 60s 128ms/step - loss: 1.6877 - accuracy: 0.5302 - val_loss: 1.4322 - val_accuracy: 0.7587\n",
      "Epoch 10/24\n",
      "469/469 [==============================] - 60s 127ms/step - loss: 1.4697 - accuracy: 0.5758 - val_loss: 1.1703 - val_accuracy: 0.7774\n",
      "Epoch 11/24\n",
      "469/469 [==============================] - 60s 129ms/step - loss: 1.2987 - accuracy: 0.6097 - val_loss: 0.9771 - val_accuracy: 0.7946\n",
      "Epoch 12/24\n",
      "469/469 [==============================] - 63s 134ms/step - loss: 1.1618 - accuracy: 0.6434 - val_loss: 0.8419 - val_accuracy: 0.8121\n",
      "Epoch 13/24\n",
      "469/469 [==============================] - 62s 131ms/step - loss: 1.0638 - accuracy: 0.6679 - val_loss: 0.7483 - val_accuracy: 0.8225\n",
      "Epoch 14/24\n",
      "469/469 [==============================] - 61s 131ms/step - loss: 0.9923 - accuracy: 0.6866 - val_loss: 0.6810 - val_accuracy: 0.8351\n",
      "Epoch 15/24\n",
      "469/469 [==============================] - 62s 133ms/step - loss: 0.9272 - accuracy: 0.7069 - val_loss: 0.6286 - val_accuracy: 0.8441\n",
      "Epoch 16/24\n",
      "469/469 [==============================] - 62s 132ms/step - loss: 0.8815 - accuracy: 0.7189 - val_loss: 0.5877 - val_accuracy: 0.8516\n",
      "Epoch 17/24\n",
      "469/469 [==============================] - 63s 135ms/step - loss: 0.8401 - accuracy: 0.7315 - val_loss: 0.5554 - val_accuracy: 0.8574\n",
      "Epoch 18/24\n",
      "469/469 [==============================] - 60s 127ms/step - loss: 0.8106 - accuracy: 0.7405 - val_loss: 0.5280 - val_accuracy: 0.8632\n",
      "Epoch 19/24\n",
      "469/469 [==============================] - 63s 135ms/step - loss: 0.7787 - accuracy: 0.7534 - val_loss: 0.5043 - val_accuracy: 0.8689\n",
      "Epoch 20/24\n",
      "469/469 [==============================] - 61s 130ms/step - loss: 0.7530 - accuracy: 0.7614 - val_loss: 0.4843 - val_accuracy: 0.8728\n",
      "Epoch 21/24\n",
      "469/469 [==============================] - 63s 134ms/step - loss: 0.7331 - accuracy: 0.7663 - val_loss: 0.4669 - val_accuracy: 0.8759\n",
      "Epoch 22/24\n",
      "469/469 [==============================] - 62s 132ms/step - loss: 0.7061 - accuracy: 0.7756 - val_loss: 0.4507 - val_accuracy: 0.8780\n",
      "Epoch 23/24\n",
      "469/469 [==============================] - 66s 141ms/step - loss: 0.6920 - accuracy: 0.7793 - val_loss: 0.4371 - val_accuracy: 0.8802\n",
      "Epoch 24/24\n",
      "469/469 [==============================] - 61s 131ms/step - loss: 0.6729 - accuracy: 0.7872 - val_loss: 0.4251 - val_accuracy: 0.8847\n",
      "Test loss: 0.4250858426094055\n",
      "Test accuracy: 0.8847000002861023\n"
     ]
    }
   ],
   "source": [
    "model = Sequential()\n",
    "# Add a Convolutional layer with 8 filters, each using a 3x3 kernel and ReLU activation.\n",
    "# Set the input shape to match the dimensions of the input data.\n",
    "model.add(Conv2D(\n",
    "    32,\n",
    "    kernel_size=(3, 3),\n",
    "    activation='relu',\n",
    "    input_shape=input_shape\n",
    "))\n",
    "model.add(Conv2D(\n",
    "    64,\n",
    "    (3, 3),\n",
    "    activation='relu'\n",
    "))\n",
    "# Add a MaxPooling layer to downsample the spatial dimensions by a factor of 2.\n",
    "# MaxPooling reduces the size of the feature maps, retaining the most important information.\n",
    "# It helps reduce the number of parameters and computational complexity.\n",
    "model.add(MaxPooling2D(pool_size=(2, 2)))\n",
    "model.add(Conv2D(\n",
    "    64,\n",
    "    (3, 3),\n",
    "    activation='relu'\n",
    "))\n",
    "# Add a Dropout layer to prevent overfitting by randomly setting a fraction (here 25%)\n",
    "# of the input units to 0 during each training update. This temporarily drops out some\n",
    "# connections, making the model more robust and preventing it from relying too much on\n",
    "# any one feature. It encourages the network to learn more robust and general patterns.\n",
    "model.add(Dropout(0.25))\n",
    "# Flatten the output from the previous layers into a 1D array.\n",
    "model.add(Flatten())\n",
    "model.add(Dense(128, activation='relu'))\n",
    "# Add another Dropout layer to prevent overfitting.\n",
    "model.add(Dropout(0.5))\n",
    "model.add(Dense(num_classes, activation='softmax'))\n",
    "\n",
    "model.compile(loss=keras.losses.categorical_crossentropy,\n",
    "              optimizer=keras.optimizers.Adadelta(),\n",
    "              metrics=['accuracy'])\n",
    "\n",
    "model.fit(x_train, y_train,\n",
    "          batch_size=batch_size,\n",
    "          epochs=epochs,\n",
    "          verbose=1,\n",
    "          validation_data=(x_test, y_test))\n",
    "score = model.evaluate(x_test, y_test, verbose=0)\n",
    "print('Test loss:', score[0])\n",
    "print('Test accuracy:', score[1])"
   ]
  },
  {
   "cell_type": "code",
   "execution_count": 8,
   "metadata": {},
   "outputs": [
    {
     "name": "stdout",
     "output_type": "stream",
     "text": [
      "Model: \"sequential\"\n",
      "_________________________________________________________________\n",
      " Layer (type)                Output Shape              Param #   \n",
      "=================================================================\n",
      " conv2d (Conv2D)             (None, 26, 26, 32)        320       \n",
      "                                                                 \n",
      " conv2d_1 (Conv2D)           (None, 24, 24, 64)        18496     \n",
      "                                                                 \n",
      " max_pooling2d (MaxPooling2  (None, 12, 12, 64)        0         \n",
      " D)                                                              \n",
      "                                                                 \n",
      " conv2d_2 (Conv2D)           (None, 10, 10, 64)        36928     \n",
      "                                                                 \n",
      " dropout (Dropout)           (None, 10, 10, 64)        0         \n",
      "                                                                 \n",
      " flatten (Flatten)           (None, 6400)              0         \n",
      "                                                                 \n",
      " dense (Dense)               (None, 128)               819328    \n",
      "                                                                 \n",
      " dropout_1 (Dropout)         (None, 128)               0         \n",
      "                                                                 \n",
      " dense_1 (Dense)             (None, 10)                1290      \n",
      "                                                                 \n",
      "=================================================================\n",
      "Total params: 876362 (3.34 MB)\n",
      "Trainable params: 876362 (3.34 MB)\n",
      "Non-trainable params: 0 (0.00 Byte)\n",
      "_________________________________________________________________\n"
     ]
    }
   ],
   "source": [
    "model.summary()\n"
   ]
  },
  {
   "cell_type": "markdown",
   "metadata": {
    "slideshow": {
     "slide_type": "slide"
    }
   },
   "source": [
    "### Convolution Kernels\n",
    "![](figs/convolution-kernels.png)\n",
    "[Source](https://www.jebruner.com/2017/07/interpreting-and-fooling-convolutional-neural-networks-part-1/)"
   ]
  },
  {
   "cell_type": "markdown",
   "metadata": {
    "slideshow": {
     "slide_type": "subslide"
    }
   },
   "source": [
    "#### Keras\n",
    "https://github.com/fchollet/keras/blob/master/examples/mnist_cnn.py\n",
    "\n",
    "https://bit.ly/2HzzSKp"
   ]
  },
  {
   "cell_type": "code",
   "execution_count": 9,
   "metadata": {},
   "outputs": [
    {
     "name": "stdout",
     "output_type": "stream",
     "text": [
      "313/313 [==============================] - 4s 14ms/step\n"
     ]
    },
    {
     "data": {
      "text/plain": [
       "0.9110425793650792"
      ]
     },
     "execution_count": 9,
     "metadata": {},
     "output_type": "execute_result"
    }
   ],
   "source": [
    "from sklearn.metrics import label_ranking_average_precision_score\n",
    "\n",
    "label_ranking_average_precision_score(y_test, model.predict(x_test))"
   ]
  },
  {
   "cell_type": "markdown",
   "metadata": {
    "slideshow": {
     "slide_type": "subslide"
    }
   },
   "source": [
    "### Good old scikit-learn & linear regression"
   ]
  },
  {
   "cell_type": "code",
   "execution_count": 68,
   "metadata": {
    "slideshow": {
     "slide_type": "fragment"
    }
   },
   "outputs": [
    {
     "data": {
      "text/html": [
       "<style>#sk-container-id-3 {color: black;}#sk-container-id-3 pre{padding: 0;}#sk-container-id-3 div.sk-toggleable {background-color: white;}#sk-container-id-3 label.sk-toggleable__label {cursor: pointer;display: block;width: 100%;margin-bottom: 0;padding: 0.3em;box-sizing: border-box;text-align: center;}#sk-container-id-3 label.sk-toggleable__label-arrow:before {content: \"▸\";float: left;margin-right: 0.25em;color: #696969;}#sk-container-id-3 label.sk-toggleable__label-arrow:hover:before {color: black;}#sk-container-id-3 div.sk-estimator:hover label.sk-toggleable__label-arrow:before {color: black;}#sk-container-id-3 div.sk-toggleable__content {max-height: 0;max-width: 0;overflow: hidden;text-align: left;background-color: #f0f8ff;}#sk-container-id-3 div.sk-toggleable__content pre {margin: 0.2em;color: black;border-radius: 0.25em;background-color: #f0f8ff;}#sk-container-id-3 input.sk-toggleable__control:checked~div.sk-toggleable__content {max-height: 200px;max-width: 100%;overflow: auto;}#sk-container-id-3 input.sk-toggleable__control:checked~label.sk-toggleable__label-arrow:before {content: \"▾\";}#sk-container-id-3 div.sk-estimator input.sk-toggleable__control:checked~label.sk-toggleable__label {background-color: #d4ebff;}#sk-container-id-3 div.sk-label input.sk-toggleable__control:checked~label.sk-toggleable__label {background-color: #d4ebff;}#sk-container-id-3 input.sk-hidden--visually {border: 0;clip: rect(1px 1px 1px 1px);clip: rect(1px, 1px, 1px, 1px);height: 1px;margin: -1px;overflow: hidden;padding: 0;position: absolute;width: 1px;}#sk-container-id-3 div.sk-estimator {font-family: monospace;background-color: #f0f8ff;border: 1px dotted black;border-radius: 0.25em;box-sizing: border-box;margin-bottom: 0.5em;}#sk-container-id-3 div.sk-estimator:hover {background-color: #d4ebff;}#sk-container-id-3 div.sk-parallel-item::after {content: \"\";width: 100%;border-bottom: 1px solid gray;flex-grow: 1;}#sk-container-id-3 div.sk-label:hover label.sk-toggleable__label {background-color: #d4ebff;}#sk-container-id-3 div.sk-serial::before {content: \"\";position: absolute;border-left: 1px solid gray;box-sizing: border-box;top: 0;bottom: 0;left: 50%;z-index: 0;}#sk-container-id-3 div.sk-serial {display: flex;flex-direction: column;align-items: center;background-color: white;padding-right: 0.2em;padding-left: 0.2em;position: relative;}#sk-container-id-3 div.sk-item {position: relative;z-index: 1;}#sk-container-id-3 div.sk-parallel {display: flex;align-items: stretch;justify-content: center;background-color: white;position: relative;}#sk-container-id-3 div.sk-item::before, #sk-container-id-3 div.sk-parallel-item::before {content: \"\";position: absolute;border-left: 1px solid gray;box-sizing: border-box;top: 0;bottom: 0;left: 50%;z-index: -1;}#sk-container-id-3 div.sk-parallel-item {display: flex;flex-direction: column;z-index: 1;position: relative;background-color: white;}#sk-container-id-3 div.sk-parallel-item:first-child::after {align-self: flex-end;width: 50%;}#sk-container-id-3 div.sk-parallel-item:last-child::after {align-self: flex-start;width: 50%;}#sk-container-id-3 div.sk-parallel-item:only-child::after {width: 0;}#sk-container-id-3 div.sk-dashed-wrapped {border: 1px dashed gray;margin: 0 0.4em 0.5em 0.4em;box-sizing: border-box;padding-bottom: 0.4em;background-color: white;}#sk-container-id-3 div.sk-label label {font-family: monospace;font-weight: bold;display: inline-block;line-height: 1.2em;}#sk-container-id-3 div.sk-label-container {text-align: center;}#sk-container-id-3 div.sk-container {/* jupyter's `normalize.less` sets `[hidden] { display: none; }` but bootstrap.min.css set `[hidden] { display: none !important; }` so we also need the `!important` here to be able to override the default hidden behavior on the sphinx rendered scikit-learn.org. See: https://github.com/scikit-learn/scikit-learn/issues/21755 */display: inline-block !important;position: relative;}#sk-container-id-3 div.sk-text-repr-fallback {display: none;}</style><div id=\"sk-container-id-3\" class=\"sk-top-container\"><div class=\"sk-text-repr-fallback\"><pre>Pipeline(steps=[(&#x27;variance filter&#x27;, VarianceThreshold(threshold=0.01)),\n",
       "                (&#x27;standard_scale&#x27;, StandardScaler()),\n",
       "                (&#x27;estimator&#x27;, Lasso(alpha=0.1, max_iter=2000))])</pre><b>In a Jupyter environment, please rerun this cell to show the HTML representation or trust the notebook. <br />On GitHub, the HTML representation is unable to render, please try loading this page with nbviewer.org.</b></div><div class=\"sk-container\" hidden><div class=\"sk-item sk-dashed-wrapped\"><div class=\"sk-label-container\"><div class=\"sk-label sk-toggleable\"><input class=\"sk-toggleable__control sk-hidden--visually\" id=\"sk-estimator-id-8\" type=\"checkbox\" ><label for=\"sk-estimator-id-8\" class=\"sk-toggleable__label sk-toggleable__label-arrow\">Pipeline</label><div class=\"sk-toggleable__content\"><pre>Pipeline(steps=[(&#x27;variance filter&#x27;, VarianceThreshold(threshold=0.01)),\n",
       "                (&#x27;standard_scale&#x27;, StandardScaler()),\n",
       "                (&#x27;estimator&#x27;, Lasso(alpha=0.1, max_iter=2000))])</pre></div></div></div><div class=\"sk-serial\"><div class=\"sk-item\"><div class=\"sk-estimator sk-toggleable\"><input class=\"sk-toggleable__control sk-hidden--visually\" id=\"sk-estimator-id-9\" type=\"checkbox\" ><label for=\"sk-estimator-id-9\" class=\"sk-toggleable__label sk-toggleable__label-arrow\">VarianceThreshold</label><div class=\"sk-toggleable__content\"><pre>VarianceThreshold(threshold=0.01)</pre></div></div></div><div class=\"sk-item\"><div class=\"sk-estimator sk-toggleable\"><input class=\"sk-toggleable__control sk-hidden--visually\" id=\"sk-estimator-id-10\" type=\"checkbox\" ><label for=\"sk-estimator-id-10\" class=\"sk-toggleable__label sk-toggleable__label-arrow\">StandardScaler</label><div class=\"sk-toggleable__content\"><pre>StandardScaler()</pre></div></div></div><div class=\"sk-item\"><div class=\"sk-estimator sk-toggleable\"><input class=\"sk-toggleable__control sk-hidden--visually\" id=\"sk-estimator-id-11\" type=\"checkbox\" ><label for=\"sk-estimator-id-11\" class=\"sk-toggleable__label sk-toggleable__label-arrow\">Lasso</label><div class=\"sk-toggleable__content\"><pre>Lasso(alpha=0.1, max_iter=2000)</pre></div></div></div></div></div></div></div>"
      ],
      "text/plain": [
       "Pipeline(steps=[('variance filter', VarianceThreshold(threshold=0.01)),\n",
       "                ('standard_scale', StandardScaler()),\n",
       "                ('estimator', Lasso(alpha=0.1, max_iter=2000))])"
      ]
     },
     "execution_count": 68,
     "metadata": {},
     "output_type": "execute_result"
    }
   ],
   "source": [
    "from sklearn.pipeline import Pipeline\n",
    "from sklearn.feature_selection import VarianceThreshold\n",
    "from sklearn.linear_model import Lasso\n",
    "from sklearn.preprocessing import StandardScaler\n",
    "\n",
    "pipeline = Pipeline([\n",
    "    ('variance filter', VarianceThreshold(threshold=0.01)),\n",
    "    ('standard_scale', StandardScaler()),\n",
    "    ('estimator', Lasso(alpha=0.1, max_iter=2000)),\n",
    "])\n",
    "\n",
    "pipeline.fit(x_train.reshape(60000, -1), y_train)"
   ]
  },
  {
   "cell_type": "code",
   "execution_count": 55,
   "metadata": {
    "slideshow": {
     "slide_type": "subslide"
    }
   },
   "outputs": [
    {
     "data": {
      "text/plain": [
       "0.47801019841269715"
      ]
     },
     "execution_count": 55,
     "metadata": {},
     "output_type": "execute_result"
    }
   ],
   "source": [
    "label_ranking_average_precision_score(y_test, pipeline.predict(x_test.reshape(len(x_test), -1)))"
   ]
  },
  {
   "cell_type": "markdown",
   "metadata": {},
   "source": [
    "### Sci-Kit learn with ensemble method"
   ]
  },
  {
   "cell_type": "code",
   "execution_count": 51,
   "metadata": {},
   "outputs": [
    {
     "data": {
      "text/html": [
       "<style>#sk-container-id-1 {color: black;}#sk-container-id-1 pre{padding: 0;}#sk-container-id-1 div.sk-toggleable {background-color: white;}#sk-container-id-1 label.sk-toggleable__label {cursor: pointer;display: block;width: 100%;margin-bottom: 0;padding: 0.3em;box-sizing: border-box;text-align: center;}#sk-container-id-1 label.sk-toggleable__label-arrow:before {content: \"▸\";float: left;margin-right: 0.25em;color: #696969;}#sk-container-id-1 label.sk-toggleable__label-arrow:hover:before {color: black;}#sk-container-id-1 div.sk-estimator:hover label.sk-toggleable__label-arrow:before {color: black;}#sk-container-id-1 div.sk-toggleable__content {max-height: 0;max-width: 0;overflow: hidden;text-align: left;background-color: #f0f8ff;}#sk-container-id-1 div.sk-toggleable__content pre {margin: 0.2em;color: black;border-radius: 0.25em;background-color: #f0f8ff;}#sk-container-id-1 input.sk-toggleable__control:checked~div.sk-toggleable__content {max-height: 200px;max-width: 100%;overflow: auto;}#sk-container-id-1 input.sk-toggleable__control:checked~label.sk-toggleable__label-arrow:before {content: \"▾\";}#sk-container-id-1 div.sk-estimator input.sk-toggleable__control:checked~label.sk-toggleable__label {background-color: #d4ebff;}#sk-container-id-1 div.sk-label input.sk-toggleable__control:checked~label.sk-toggleable__label {background-color: #d4ebff;}#sk-container-id-1 input.sk-hidden--visually {border: 0;clip: rect(1px 1px 1px 1px);clip: rect(1px, 1px, 1px, 1px);height: 1px;margin: -1px;overflow: hidden;padding: 0;position: absolute;width: 1px;}#sk-container-id-1 div.sk-estimator {font-family: monospace;background-color: #f0f8ff;border: 1px dotted black;border-radius: 0.25em;box-sizing: border-box;margin-bottom: 0.5em;}#sk-container-id-1 div.sk-estimator:hover {background-color: #d4ebff;}#sk-container-id-1 div.sk-parallel-item::after {content: \"\";width: 100%;border-bottom: 1px solid gray;flex-grow: 1;}#sk-container-id-1 div.sk-label:hover label.sk-toggleable__label {background-color: #d4ebff;}#sk-container-id-1 div.sk-serial::before {content: \"\";position: absolute;border-left: 1px solid gray;box-sizing: border-box;top: 0;bottom: 0;left: 50%;z-index: 0;}#sk-container-id-1 div.sk-serial {display: flex;flex-direction: column;align-items: center;background-color: white;padding-right: 0.2em;padding-left: 0.2em;position: relative;}#sk-container-id-1 div.sk-item {position: relative;z-index: 1;}#sk-container-id-1 div.sk-parallel {display: flex;align-items: stretch;justify-content: center;background-color: white;position: relative;}#sk-container-id-1 div.sk-item::before, #sk-container-id-1 div.sk-parallel-item::before {content: \"\";position: absolute;border-left: 1px solid gray;box-sizing: border-box;top: 0;bottom: 0;left: 50%;z-index: -1;}#sk-container-id-1 div.sk-parallel-item {display: flex;flex-direction: column;z-index: 1;position: relative;background-color: white;}#sk-container-id-1 div.sk-parallel-item:first-child::after {align-self: flex-end;width: 50%;}#sk-container-id-1 div.sk-parallel-item:last-child::after {align-self: flex-start;width: 50%;}#sk-container-id-1 div.sk-parallel-item:only-child::after {width: 0;}#sk-container-id-1 div.sk-dashed-wrapped {border: 1px dashed gray;margin: 0 0.4em 0.5em 0.4em;box-sizing: border-box;padding-bottom: 0.4em;background-color: white;}#sk-container-id-1 div.sk-label label {font-family: monospace;font-weight: bold;display: inline-block;line-height: 1.2em;}#sk-container-id-1 div.sk-label-container {text-align: center;}#sk-container-id-1 div.sk-container {/* jupyter's `normalize.less` sets `[hidden] { display: none; }` but bootstrap.min.css set `[hidden] { display: none !important; }` so we also need the `!important` here to be able to override the default hidden behavior on the sphinx rendered scikit-learn.org. See: https://github.com/scikit-learn/scikit-learn/issues/21755 */display: inline-block !important;position: relative;}#sk-container-id-1 div.sk-text-repr-fallback {display: none;}</style><div id=\"sk-container-id-1\" class=\"sk-top-container\"><div class=\"sk-text-repr-fallback\"><pre>Pipeline(steps=[(&#x27;variance filter&#x27;, VarianceThreshold(threshold=0.01)),\n",
       "                (&#x27;estimator&#x27;, RandomForestClassifier())])</pre><b>In a Jupyter environment, please rerun this cell to show the HTML representation or trust the notebook. <br />On GitHub, the HTML representation is unable to render, please try loading this page with nbviewer.org.</b></div><div class=\"sk-container\" hidden><div class=\"sk-item sk-dashed-wrapped\"><div class=\"sk-label-container\"><div class=\"sk-label sk-toggleable\"><input class=\"sk-toggleable__control sk-hidden--visually\" id=\"sk-estimator-id-1\" type=\"checkbox\" ><label for=\"sk-estimator-id-1\" class=\"sk-toggleable__label sk-toggleable__label-arrow\">Pipeline</label><div class=\"sk-toggleable__content\"><pre>Pipeline(steps=[(&#x27;variance filter&#x27;, VarianceThreshold(threshold=0.01)),\n",
       "                (&#x27;estimator&#x27;, RandomForestClassifier())])</pre></div></div></div><div class=\"sk-serial\"><div class=\"sk-item\"><div class=\"sk-estimator sk-toggleable\"><input class=\"sk-toggleable__control sk-hidden--visually\" id=\"sk-estimator-id-2\" type=\"checkbox\" ><label for=\"sk-estimator-id-2\" class=\"sk-toggleable__label sk-toggleable__label-arrow\">VarianceThreshold</label><div class=\"sk-toggleable__content\"><pre>VarianceThreshold(threshold=0.01)</pre></div></div></div><div class=\"sk-item\"><div class=\"sk-estimator sk-toggleable\"><input class=\"sk-toggleable__control sk-hidden--visually\" id=\"sk-estimator-id-3\" type=\"checkbox\" ><label for=\"sk-estimator-id-3\" class=\"sk-toggleable__label sk-toggleable__label-arrow\">RandomForestClassifier</label><div class=\"sk-toggleable__content\"><pre>RandomForestClassifier()</pre></div></div></div></div></div></div></div>"
      ],
      "text/plain": [
       "Pipeline(steps=[('variance filter', VarianceThreshold(threshold=0.01)),\n",
       "                ('estimator', RandomForestClassifier())])"
      ]
     },
     "execution_count": 51,
     "metadata": {},
     "output_type": "execute_result"
    }
   ],
   "source": [
    "from sklearn.pipeline import Pipeline\n",
    "from sklearn.feature_selection import VarianceThreshold\n",
    "from sklearn.ensemble import RandomForestClassifier\n",
    "from sklearn.preprocessing import StandardScaler\n",
    "\n",
    "rf_pipeline = Pipeline([\n",
    "    ('variance filter', VarianceThreshold(threshold=0.01)),\n",
    "    ('estimator', RandomForestClassifier()),\n",
    "])\n",
    "\n",
    "rf_pipeline.fit(x_train.reshape(60000, -1), y_train)"
   ]
  },
  {
   "cell_type": "code",
   "execution_count": 67,
   "metadata": {},
   "outputs": [
    {
     "data": {
      "text/plain": [
       "0.915310000000009"
      ]
     },
     "execution_count": 67,
     "metadata": {},
     "output_type": "execute_result"
    }
   ],
   "source": [
    "label_ranking_average_precision_score(y_test, rf_pipeline.predict(x_test.reshape(len(x_test), -1)))"
   ]
  },
  {
   "cell_type": "code",
   "execution_count": 24,
   "metadata": {
    "slideshow": {
     "slide_type": "fragment"
    }
   },
   "outputs": [
    {
     "name": "stdout",
     "output_type": "stream",
     "text": [
      "313/313 [==============================] - 4s 12ms/step\n"
     ]
    },
    {
     "data": {
      "text/plain": [
       "0.903410277777777"
      ]
     },
     "execution_count": 24,
     "metadata": {},
     "output_type": "execute_result"
    }
   ],
   "source": [
    "label_ranking_average_precision_score(y_test, model.predict(x_test))"
   ]
  }
 ],
 "metadata": {
  "celltoolbar": "Slideshow",
  "kernelspec": {
   "display_name": "Python 3 (ipykernel)",
   "language": "python",
   "name": "python3"
  },
  "language_info": {
   "codemirror_mode": {
    "name": "ipython",
    "version": 3
   },
   "file_extension": ".py",
   "mimetype": "text/x-python",
   "name": "python",
   "nbconvert_exporter": "python",
   "pygments_lexer": "ipython3",
   "version": "3.11.3"
  }
 },
 "nbformat": 4,
 "nbformat_minor": 4
}
