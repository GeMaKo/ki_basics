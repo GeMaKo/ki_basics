{
 "cells": [
  {
   "cell_type": "code",
   "execution_count": 5,
   "metadata": {},
   "outputs": [
    {
     "data": {
      "text/plain": [
       "'2.4.0'"
      ]
     },
     "execution_count": 5,
     "metadata": {},
     "output_type": "execute_result"
    }
   ],
   "source": [
    "import tensorflow as tf\n",
    "import numpy as np\n",
    "from tensorflow import keras\n",
    "keras.__version__"
   ]
  },
  {
   "cell_type": "code",
   "execution_count": 6,
   "metadata": {},
   "outputs": [],
   "source": [
    "from tensorflow.keras.datasets import reuters\n",
    "(train_data, train_labels), (test_data, test_labels) = reuters.load_data(num_words=10000)"
   ]
  },
  {
   "cell_type": "markdown",
   "metadata": {},
   "source": [
    "Der Reuters-Datensatz ist ein Datensatz von Nachrichtenmeldungen, die sich in 46 verschiedene Themen einteilen lassen.\n",
    "\n",
    "Eure Aufgabe ist es, analog zum IMDB-Datensatz ein Modell für die Klassifizierung der Reutersmeldungen zu trainieren.\n",
    "\n",
    "* Schaut Euch eine dekodierte Meldung an.\n",
    "* Vektorisiert die Daten und Targets\n",
    "* Baut ein Modell: Vorsicht auf die Outputdimension = 46, activation nicht sigmoid sondern 'softmax', loss-function='sparse_categorical_crossentropy'\n",
    "* Spaltet ein Validationset ab und benutzt es im Training\n",
    "* Plottet Validation-Loss und Trainings-Loss um Overfitting zu diagnostizieren.\n",
    "* Wenn Ihr mit Eurem Model glücklich seid --> Evaluiert es auf dem Testset."
   ]
  },
  {
   "cell_type": "code",
   "execution_count": null,
   "metadata": {},
   "outputs": [],
   "source": []
  },
  {
   "cell_type": "code",
   "execution_count": null,
   "metadata": {},
   "outputs": [],
   "source": []
  },
  {
   "cell_type": "code",
   "execution_count": null,
   "metadata": {},
   "outputs": [],
   "source": []
  },
  {
   "cell_type": "code",
   "execution_count": null,
   "metadata": {},
   "outputs": [],
   "source": []
  },
  {
   "cell_type": "code",
   "execution_count": null,
   "metadata": {},
   "outputs": [],
   "source": []
  },
  {
   "cell_type": "code",
   "execution_count": null,
   "metadata": {},
   "outputs": [],
   "source": []
  },
  {
   "cell_type": "markdown",
   "metadata": {},
   "source": [
    "# Lösung"
   ]
  },
  {
   "cell_type": "code",
   "execution_count": 7,
   "metadata": {},
   "outputs": [
    {
     "data": {
      "text/plain": [
       "45"
      ]
     },
     "execution_count": 7,
     "metadata": {},
     "output_type": "execute_result"
    }
   ],
   "source": [
    "np.max(train_labels)"
   ]
  },
  {
   "cell_type": "code",
   "execution_count": 8,
   "metadata": {},
   "outputs": [],
   "source": [
    "# word_index is a dictionary mapping words to an integer index\n",
    "word_index = reuters.get_word_index()\n",
    "# We reverse it, mapping integer indices to words\n",
    "reverse_word_index = dict([(value, key) for (key, value) in word_index.items()])\n",
    "# We decode the review; note that our indices were offset by 3\n",
    "# because 0, 1 and 2 are reserved indices for \"padding\", \"start of sequence\", and \"unknown\".\n",
    "decoded_message = ' '.join([reverse_word_index.get(i - 3, '?') for i in train_data[0]])"
   ]
  },
  {
   "cell_type": "code",
   "execution_count": 9,
   "metadata": {},
   "outputs": [
    {
     "data": {
      "text/plain": [
       "'? ? ? said as a result of its december acquisition of space co it expects earnings per share in 1987 of 1 15 to 1 30 dlrs per share up from 70 cts in 1986 the company said pretax net should rise to nine to 10 mln dlrs from six mln dlrs in 1986 and rental operation revenues to 19 to 22 mln dlrs from 12 5 mln dlrs it said cash flow per share this year should be 2 50 to three dlrs reuter 3'"
      ]
     },
     "execution_count": 9,
     "metadata": {},
     "output_type": "execute_result"
    }
   ],
   "source": [
    "decoded_message"
   ]
  },
  {
   "cell_type": "code",
   "execution_count": 10,
   "metadata": {},
   "outputs": [],
   "source": [
    "def vectorize_sequences(sequences, dimension=10000):\n",
    "    # Create an all-zero matrix of shape (len(sequences), dimension)\n",
    "    results = np.zeros((len(sequences), dimension))\n",
    "    for i, sequence in enumerate(sequences):\n",
    "        results[i, sequence] = 1.  # set specific indices of results[i] to 1s\n",
    "    return results\n",
    "\n",
    "# Our vectorized training data\n",
    "x_train = vectorize_sequences(train_data)\n",
    "# Our vectorized test data\n",
    "x_test = vectorize_sequences(test_data)"
   ]
  },
  {
   "cell_type": "code",
   "execution_count": 11,
   "metadata": {},
   "outputs": [
    {
     "data": {
      "text/plain": [
       "(8982, 10000)"
      ]
     },
     "execution_count": 11,
     "metadata": {},
     "output_type": "execute_result"
    }
   ],
   "source": [
    "x_train.shape"
   ]
  },
  {
   "cell_type": "code",
   "execution_count": 12,
   "metadata": {},
   "outputs": [
    {
     "data": {
      "text/plain": [
       "(2246, 10000)"
      ]
     },
     "execution_count": 12,
     "metadata": {},
     "output_type": "execute_result"
    }
   ],
   "source": [
    "x_test.shape"
   ]
  },
  {
   "cell_type": "code",
   "execution_count": 13,
   "metadata": {},
   "outputs": [
    {
     "name": "stderr",
     "output_type": "stream",
     "text": [
      "2022-04-12 14:05:14.197419: I tensorflow/compiler/jit/xla_cpu_device.cc:41] Not creating XLA devices, tf_xla_enable_xla_devices not set\n",
      "2022-04-12 14:05:14.197655: I tensorflow/core/platform/cpu_feature_guard.cc:142] This TensorFlow binary is optimized with oneAPI Deep Neural Network Library (oneDNN) to use the following CPU instructions in performance-critical operations:  AVX2 FMA\n",
      "To enable them in other operations, rebuild TensorFlow with the appropriate compiler flags.\n",
      "2022-04-12 14:05:14.672396: I tensorflow/compiler/mlir/mlir_graph_optimization_pass.cc:116] None of the MLIR optimization passes are enabled (registered 2)\n"
     ]
    },
    {
     "name": "stdout",
     "output_type": "stream",
     "text": [
      "Epoch 1/20\n",
      "15/15 [==============================] - 2s 79ms/step - loss: 3.3056 - accuracy: 0.3667 - val_loss: 2.0469 - val_accuracy: 0.6082\n",
      "Epoch 2/20\n",
      "15/15 [==============================] - 0s 18ms/step - loss: 1.7994 - accuracy: 0.6528 - val_loss: 1.5056 - val_accuracy: 0.6839\n",
      "Epoch 3/20\n",
      "15/15 [==============================] - 0s 19ms/step - loss: 1.2821 - accuracy: 0.7287 - val_loss: 1.3087 - val_accuracy: 0.7117\n",
      "Epoch 4/20\n",
      "15/15 [==============================] - 0s 19ms/step - loss: 1.0556 - accuracy: 0.7694 - val_loss: 1.1851 - val_accuracy: 0.7284\n",
      "Epoch 5/20\n",
      "15/15 [==============================] - 0s 19ms/step - loss: 0.8635 - accuracy: 0.8095 - val_loss: 1.1195 - val_accuracy: 0.7429\n",
      "Epoch 6/20\n",
      "15/15 [==============================] - 0s 17ms/step - loss: 0.7172 - accuracy: 0.8423 - val_loss: 1.0813 - val_accuracy: 0.7585\n",
      "Epoch 7/20\n",
      "15/15 [==============================] - 0s 18ms/step - loss: 0.6120 - accuracy: 0.8747 - val_loss: 1.0556 - val_accuracy: 0.7585\n",
      "Epoch 8/20\n",
      "15/15 [==============================] - 0s 18ms/step - loss: 0.5158 - accuracy: 0.8921 - val_loss: 0.9988 - val_accuracy: 0.7885\n",
      "Epoch 9/20\n",
      "15/15 [==============================] - 0s 18ms/step - loss: 0.4127 - accuracy: 0.9251 - val_loss: 0.9754 - val_accuracy: 0.7841\n",
      "Epoch 10/20\n",
      "15/15 [==============================] - 0s 20ms/step - loss: 0.3643 - accuracy: 0.9288 - val_loss: 0.9638 - val_accuracy: 0.7991\n",
      "Epoch 11/20\n",
      "15/15 [==============================] - 0s 20ms/step - loss: 0.2988 - accuracy: 0.9426 - val_loss: 0.9831 - val_accuracy: 0.7908\n",
      "Epoch 12/20\n",
      "15/15 [==============================] - 0s 20ms/step - loss: 0.2468 - accuracy: 0.9484 - val_loss: 0.9801 - val_accuracy: 0.7958\n",
      "Epoch 13/20\n",
      "15/15 [==============================] - 0s 19ms/step - loss: 0.2213 - accuracy: 0.9511 - val_loss: 1.0329 - val_accuracy: 0.7841\n",
      "Epoch 14/20\n",
      "15/15 [==============================] - 0s 19ms/step - loss: 0.1902 - accuracy: 0.9565 - val_loss: 0.9755 - val_accuracy: 0.7986\n",
      "Epoch 15/20\n",
      "15/15 [==============================] - 0s 19ms/step - loss: 0.1746 - accuracy: 0.9610 - val_loss: 0.9788 - val_accuracy: 0.7969\n",
      "Epoch 16/20\n",
      "15/15 [==============================] - 0s 20ms/step - loss: 0.1521 - accuracy: 0.9616 - val_loss: 1.0500 - val_accuracy: 0.7869\n",
      "Epoch 17/20\n",
      "15/15 [==============================] - 0s 19ms/step - loss: 0.1441 - accuracy: 0.9620 - val_loss: 1.0359 - val_accuracy: 0.7969\n",
      "Epoch 18/20\n",
      "15/15 [==============================] - 0s 19ms/step - loss: 0.1309 - accuracy: 0.9640 - val_loss: 1.1405 - val_accuracy: 0.7735\n",
      "Epoch 19/20\n",
      "15/15 [==============================] - 0s 21ms/step - loss: 0.1268 - accuracy: 0.9634 - val_loss: 1.0526 - val_accuracy: 0.7986\n",
      "Epoch 20/20\n",
      "15/15 [==============================] - 0s 17ms/step - loss: 0.1127 - accuracy: 0.9643 - val_loss: 1.0877 - val_accuracy: 0.7935\n",
      "71/71 [==============================] - 0s 1ms/step - loss: 1.1366 - accuracy: 0.7858\n"
     ]
    }
   ],
   "source": [
    "from tensorflow.keras.models import Sequential\n",
    "from tensorflow.keras import layers\n",
    "\n",
    "model = Sequential()\n",
    "model.add(layers.Dense(50, activation='relu', input_shape=(10000,)))\n",
    "model.add(layers.Dense(50, activation='relu'))\n",
    "\n",
    "model.add(layers.Dense(46, activation='softmax'))\n",
    "\n",
    "model.compile(\n",
    "    optimizer='rmsprop',\n",
    "    loss='sparse_categorical_crossentropy',\n",
    "    metrics=['accuracy']\n",
    ")\n",
    "\n",
    "history = model.fit(\n",
    "    x_train, train_labels, \n",
    "    epochs=20, \n",
    "    batch_size=512,\n",
    "    validation_split=0.2\n",
    ")\n",
    "results = model.evaluate(x_test, test_labels)"
   ]
  },
  {
   "cell_type": "code",
   "execution_count": 14,
   "metadata": {},
   "outputs": [
    {
     "data": {
      "image/png": "[encoded data removed]",
      "text/plain": [
       "<Figure size 432x288 with 1 Axes>"
      ]
     },
     "metadata": {
      "needs_background": "light"
     },
     "output_type": "display_data"
    }
   ],
   "source": [
    "import matplotlib.pyplot as plt\n",
    "%matplotlib inline\n",
    "\n",
    "acc = history.history['accuracy']\n",
    "val_acc = history.history['val_accuracy']\n",
    "loss = history.history['loss']\n",
    "val_loss = history.history['val_loss']\n",
    "\n",
    "epochs = range(1, len(acc) + 1)\n",
    "\n",
    "# \"bo\" is for \"blue dot\"\n",
    "plt.plot(epochs, loss, 'bo', label='Training loss')\n",
    "# b is for \"solid blue line\"\n",
    "plt.plot(epochs, val_loss, 'b', label='Validation loss')\n",
    "plt.title('Training and validation loss')\n",
    "plt.xlabel('Epochs')\n",
    "plt.ylabel('Loss')\n",
    "plt.legend()\n",
    "\n",
    "plt.show()"
   ]
  },
  {
   "cell_type": "code",
   "execution_count": 15,
   "metadata": {},
   "outputs": [
    {
     "data": {
      "image/png": "[encoded data removed]",
      "text/plain": [
       "<Figure size 432x288 with 1 Axes>"
      ]
     },
     "metadata": {
      "needs_background": "light"
     },
     "output_type": "display_data"
    }
   ],
   "source": [
    "plt.clf()   # clear figure\n",
    "acc_values = history.history['accuracy']\n",
    "val_acc_values = history.history['val_accuracy']\n",
    "\n",
    "plt.plot(epochs, acc, 'bo', label='Training acc')\n",
    "plt.plot(epochs, val_acc, 'b', label='Validation acc')\n",
    "plt.title('Training and validation accuracy')\n",
    "plt.xlabel('Epochs')\n",
    "plt.ylabel('Accuracy')\n",
    "plt.legend()\n",
    "\n",
    "plt.show()"
   ]
  },
  {
   "cell_type": "code",
   "execution_count": null,
   "metadata": {},
   "outputs": [],
   "source": []
  }
 ],
 "metadata": {
  "kernelspec": {
   "display_name": "Python 3 (ipykernel)",
   "language": "python",
   "name": "python3"
  },
  "language_info": {
   "codemirror_mode": {
    "name": "ipython",
    "version": 3
   },
   "file_extension": ".py",
   "mimetype": "text/x-python",
   "name": "python",
   "nbconvert_exporter": "python",
   "pygments_lexer": "ipython3",
   "version": "3.11.7"
  }
 },
 "nbformat": 4,
 "nbformat_minor": 4
}
